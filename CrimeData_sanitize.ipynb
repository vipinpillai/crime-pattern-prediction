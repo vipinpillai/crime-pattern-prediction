{
 "cells": [
  {
   "cell_type": "code",
   "execution_count": 22,
   "metadata": {
    "collapsed": false
   },
   "outputs": [],
   "source": [
    "import numpy as np\n",
    "import pandas as pd\n",
    "\n",
    "seed = 7\n",
    "np.random.seed(seed)\n",
    "\n",
    "crime_dataframe = pd.read_csv('BPD_Part_1_Victim_Based_Crime_Data.csv')\n",
    "crime_dataframe['NormalizedCrimeTime'] = crime_dataframe['CrimeTime'].apply(lambda time: time[:5] if len(time) == 8 else time[0:2] + ':' + time[2:])\n",
    "crime_dataframe['Inside/Outside'] = crime_dataframe['Inside/Outside'].replace(['Inside', 'Outside'], ['I', 'O'])\n",
    "crime_dataframe.drop(['Post','Location 1','Total Incidents'],inplace=True,axis=1)\n",
    "\n",
    "crime_dataframe = crime_dataframe.drop(196469)\n",
    "crime_dataframe.drop_duplicates(inplace = True)\n",
    "crime_dataframe['CrimeHour'] = crime_dataframe['CrimeTime'].apply(lambda time: time[:2])\n",
    "\n",
    "crime_dataframe['CrimeDay'] = crime_dataframe['CrimeDate'].apply(lambda date: pd.Timestamp(date).weekday_name)\n",
    "crime_dataframe['NormalizedCrimeDate'] = crime_dataframe['CrimeDate'].apply(lambda date: pd.Timestamp(date))\n",
    "\n",
    "crime_dataframe['Weapon'] = crime_dataframe['Weapon'].fillna('Unknown')\n",
    "crime_dataframe = crime_dataframe[crime_dataframe['Weapon'] != 'Unknown']\n",
    "\n",
    "crime_dataframe.to_csv('BPD_Crime_sanitized.csv', encoding = 'utf-8')"
   ]
  },
  {
   "cell_type": "code",
   "execution_count": null,
   "metadata": {
    "collapsed": true
   },
   "outputs": [],
   "source": []
  }
 ],
 "metadata": {
  "anaconda-cloud": {},
  "kernelspec": {
   "display_name": "Python [conda root]",
   "language": "python",
   "name": "conda-root-py"
  },
  "language_info": {
   "codemirror_mode": {
    "name": "ipython",
    "version": 2
   },
   "file_extension": ".py",
   "mimetype": "text/x-python",
   "name": "python",
   "nbconvert_exporter": "python",
   "pygments_lexer": "ipython2",
   "version": "2.7.12"
  }
 },
 "nbformat": 4,
 "nbformat_minor": 1
}
