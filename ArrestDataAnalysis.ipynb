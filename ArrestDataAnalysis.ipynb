{
 "cells": [
  {
   "cell_type": "code",
   "execution_count": 1,
   "metadata": {
    "collapsed": false
   },
   "outputs": [
    {
     "name": "stderr",
     "output_type": "stream",
     "text": [
      "Using Theano backend.\n"
     ]
    }
   ],
   "source": [
    "import numpy\n",
    "import pandas as pd\n",
    "from keras.models import Sequential\n",
    "from keras.layers import Dense\n",
    "from keras.wrappers.scikit_learn import KerasClassifier\n",
    "from keras.utils import np_utils\n",
    "from sklearn.model_selection import cross_val_score\n",
    "from sklearn.model_selection import KFold\n",
    "from sklearn.preprocessing import LabelEncoder\n",
    "from sklearn.pipeline import Pipeline\n",
    "\n",
    "'''\n",
    "import theano\n",
    "theano.config.device = 'gpu'\n",
    "theano.config.floatX = 'float32'\n",
    "'''\n",
    "\n",
    "seed = 7\n",
    "numpy.random.seed(seed)\n"
   ]
  },
  {
   "cell_type": "code",
   "execution_count": 2,
   "metadata": {
    "collapsed": false
   },
   "outputs": [
    {
     "name": "stdout",
     "output_type": "stream",
     "text": [
      "129025\n"
     ]
    }
   ],
   "source": [
    "arrest_dataframe = pd.read_csv('BPD_Arrests.csv')\n",
    "print len(arrest_dataframe)"
   ]
  },
  {
   "cell_type": "code",
   "execution_count": 3,
   "metadata": {
    "collapsed": false
   },
   "outputs": [
    {
     "name": "stdout",
     "output_type": "stream",
     "text": [
      "124731\n",
      "4294\n",
      "4294\n"
     ]
    }
   ],
   "source": [
    "print len(arrest_dataframe[arrest_dataframe['ArrestTime'].str.contains(\":\")])\n",
    "nonColonTime = arrest_dataframe['ArrestTime'][~arrest_dataframe['ArrestTime'].str.contains(\":\")]\n",
    "#print nonColonTime.unique()\n",
    "print len(nonColonTime)\n",
    "print len(nonColonTime.str.contains(\".\"))"
   ]
  },
  {
   "cell_type": "code",
   "execution_count": 4,
   "metadata": {
    "collapsed": false
   },
   "outputs": [
    {
     "data": {
      "text/html": [
       "<div>\n",
       "<table border=\"1\" class=\"dataframe\">\n",
       "  <thead>\n",
       "    <tr style=\"text-align: right;\">\n",
       "      <th></th>\n",
       "      <th>Arrest</th>\n",
       "      <th>Age</th>\n",
       "      <th>Sex</th>\n",
       "      <th>Race</th>\n",
       "      <th>ArrestDate</th>\n",
       "      <th>ArrestTime</th>\n",
       "      <th>ArrestLocation</th>\n",
       "      <th>IncidentOffense</th>\n",
       "      <th>IncidentLocation</th>\n",
       "      <th>Charge</th>\n",
       "      <th>ChargeDescription</th>\n",
       "      <th>District</th>\n",
       "      <th>Post</th>\n",
       "      <th>Neighborhood</th>\n",
       "      <th>Location 1</th>\n",
       "    </tr>\n",
       "  </thead>\n",
       "  <tbody>\n",
       "    <tr>\n",
       "      <th>0</th>\n",
       "      <td>16147118.0</td>\n",
       "      <td>27.0</td>\n",
       "      <td>M</td>\n",
       "      <td>B</td>\n",
       "      <td>10/15/2016</td>\n",
       "      <td>23:00</td>\n",
       "      <td>200 N FRANKLINTOWN RD</td>\n",
       "      <td>Unknown Offense</td>\n",
       "      <td>400 N FRANKLINTOWN RD</td>\n",
       "      <td>2 0705</td>\n",
       "      <td>ARMED ROBBERY</td>\n",
       "      <td>Southwestern</td>\n",
       "      <td>842.0</td>\n",
       "      <td>Penrose/Fayette Street Outreach</td>\n",
       "      <td>(39.2901207304, -76.6604437052)</td>\n",
       "    </tr>\n",
       "    <tr>\n",
       "      <th>1</th>\n",
       "      <td>16147119.0</td>\n",
       "      <td>33.0</td>\n",
       "      <td>M</td>\n",
       "      <td>B</td>\n",
       "      <td>10/15/2016</td>\n",
       "      <td>23:00</td>\n",
       "      <td>100 W NORTH AVE</td>\n",
       "      <td>4CAGG. ASSLT.- OTH.</td>\n",
       "      <td>W NORTH AV &amp; N CHARLES ST</td>\n",
       "      <td>1 1415</td>\n",
       "      <td>DOMESTIC ASSAULT</td>\n",
       "      <td>Central</td>\n",
       "      <td>141.0</td>\n",
       "      <td>Charles North</td>\n",
       "      <td>(39.3111354877, -76.6181214533)</td>\n",
       "    </tr>\n",
       "  </tbody>\n",
       "</table>\n",
       "</div>"
      ],
      "text/plain": [
       "       Arrest   Age Sex Race  ArrestDate ArrestTime         ArrestLocation  \\\n",
       "0  16147118.0  27.0   M    B  10/15/2016      23:00  200 N FRANKLINTOWN RD   \n",
       "1  16147119.0  33.0   M    B  10/15/2016      23:00        100 W NORTH AVE   \n",
       "\n",
       "       IncidentOffense           IncidentLocation  Charge ChargeDescription  \\\n",
       "0      Unknown Offense      400 N FRANKLINTOWN RD  2 0705     ARMED ROBBERY   \n",
       "1  4CAGG. ASSLT.- OTH.  W NORTH AV & N CHARLES ST  1 1415  DOMESTIC ASSAULT   \n",
       "\n",
       "       District   Post                     Neighborhood  \\\n",
       "0  Southwestern  842.0  Penrose/Fayette Street Outreach   \n",
       "1       Central  141.0                    Charles North   \n",
       "\n",
       "                        Location 1  \n",
       "0  (39.2901207304, -76.6604437052)  \n",
       "1  (39.3111354877, -76.6181214533)  "
      ]
     },
     "execution_count": 4,
     "metadata": {},
     "output_type": "execute_result"
    }
   ],
   "source": [
    "arrest_dataframe.head(2)#loc[arrest_dataframe['ArrestDate'] == '10/15/2016']"
   ]
  },
  {
   "cell_type": "code",
   "execution_count": 5,
   "metadata": {
    "collapsed": true
   },
   "outputs": [],
   "source": [
    "arrest_dataframe['Arrest'] = arrest_dataframe['Arrest'].fillna(0)\n",
    "arrest_dataframe['Age'] = arrest_dataframe['Age'].fillna(0)\n",
    "\n",
    "arrest_dataframe['ArrestDay'] = arrest_dataframe['ArrestDate'].apply(lambda date: pd.Timestamp(date).weekday_name)\n",
    "arrest_dataframe['NormalizedArrestDate'] = arrest_dataframe['ArrestDate'].apply(lambda date: pd.Timestamp(date))"
   ]
  },
  {
   "cell_type": "code",
   "execution_count": 6,
   "metadata": {
    "collapsed": true
   },
   "outputs": [],
   "source": [
    "#remove inconsistencies from ArrestTime like [all time have len either 4 or 5] 9.30, 9:30, 09:30, 09.30  ==> 09.30\n",
    "arrest_dataframe['ArrestTime'] = arrest_dataframe['ArrestTime'].apply(lambda time: time[0:2] + ':' + time[3:5] if len(time) == 5 else time[0:1] + ':' + time[2:4])"
   ]
  },
  {
   "cell_type": "code",
   "execution_count": 7,
   "metadata": {
    "collapsed": true
   },
   "outputs": [],
   "source": [
    "arrest_dataframe['ArrestHour'] = arrest_dataframe['ArrestTime'].apply(lambda time: '0' + time[:1] if len(time) == 4 else time[:2])"
   ]
  },
  {
   "cell_type": "code",
   "execution_count": 8,
   "metadata": {
    "collapsed": false
   },
   "outputs": [
    {
     "name": "stdout",
     "output_type": "stream",
     "text": [
      "['23' '22' '21' '20' '19' '18' '17' '15' '13' '12' '10' '09' '06' '04' '02'\n",
      " '00' '16' '14' '11' '08' '05' '01' '03' '07']\n"
     ]
    }
   ],
   "source": [
    "print arrest_dataframe['ArrestHour'].unique()"
   ]
  },
  {
   "cell_type": "code",
   "execution_count": 9,
   "metadata": {
    "collapsed": true
   },
   "outputs": [],
   "source": [
    "arrest_dataframe['Charge'] = arrest_dataframe['Charge'].fillna('0')\n",
    "arrest_dataframe['ChargeDescription'] = arrest_dataframe['ChargeDescription'].fillna('Unknown Charge')"
   ]
  },
  {
   "cell_type": "code",
   "execution_count": 10,
   "metadata": {
    "collapsed": false
   },
   "outputs": [],
   "source": [
    "arrest_dataframe['District'] = arrest_dataframe['District'].fillna('U')\n",
    "#if needed convert Northeastern to NE, Central to C and so on...\n",
    "\n",
    "arrest_dataframe['Neighborhood'] = arrest_dataframe['Neighborhood'].fillna('Unknown')\n",
    "\n",
    "#arrest_dataframe['Post'] = arrest_dataframe['Post'].fillna(0)\n"
   ]
  },
  {
   "cell_type": "code",
   "execution_count": 11,
   "metadata": {
    "collapsed": false
   },
   "outputs": [
    {
     "data": {
      "text/plain": [
       "\"\\nbpd_arrest_dataframe['ArrestDate'] = bpd_arrest_dataframe['ArrestDate'].astype('category').cat.codes\\nbpd_arrest_dataframe['ArrestTime'] = bpd_arrest_dataframe['ArrestTime'].astype('category').cat.codes\\nbpd_arrest_dataframe['NormalizedArrestDate'] = bpd_arrest_dataframe['NormalizedArrestDate'].astype('category').cat.codes\\nbpd_arrest_dataframe['Arrest'] = bpd_arrest_dataframe['Arrest'].astype('category').cat.codes\\nbpd_arrest_dataframe['Sex'] = bpd_arrest_dataframe['Sex'].astype('category').cat.codes\\nbpd_arrest_dataframe['Race'] = bpd_arrest_dataframe['Race'].astype('category').cat.codes\\nbpd_arrest_dataframe['ArrestLocation'] = bpd_arrest_dataframe['ArrestLocation'].astype('category').cat.codes\\nbpd_arrest_dataframe['IncidentOffense'] = bpd_arrest_dataframe['IncidentOffense'].astype('category').cat.codes\\nbpd_arrest_dataframe['IncidentLocation'] = bpd_arrest_dataframe['IncidentLocation'].astype('category').cat.codes\\nbpd_arrest_dataframe['Charge'] = bpd_arrest_dataframe['Charge'].astype('category').cat.codes\\nbpd_arrest_dataframe['ChargeDescription'] = bpd_arrest_dataframe['ChargeDescription'].astype('category').cat.codes\\nbpd_arrest_dataframe['District'] = bpd_arrest_dataframe['District'].astype('category').cat.codes\\nbpd_arrest_dataframe['Neighborhood'] = bpd_arrest_dataframe['Neighborhood'].astype('category').cat.codes\\n\""
      ]
     },
     "execution_count": 11,
     "metadata": {},
     "output_type": "execute_result"
    }
   ],
   "source": [
    "arrest_dataframe.drop(['Post','Location 1'],inplace=True,axis=1)\n",
    "arrest_dataframe.drop_duplicates(inplace = True)\n",
    "\n",
    "bpd_arrest_dataframe = arrest_dataframe.copy()\n",
    "#bpd_arrest_dataframe.drop(['ArrestDate', 'ArrestTime', 'NormalizedArrestDate'],inplace=True,axis=1)\n",
    "'''\n",
    "bpd_arrest_dataframe['ArrestDate'] = bpd_arrest_dataframe['ArrestDate'].astype('category').cat.codes\n",
    "bpd_arrest_dataframe['ArrestTime'] = bpd_arrest_dataframe['ArrestTime'].astype('category').cat.codes\n",
    "bpd_arrest_dataframe['NormalizedArrestDate'] = bpd_arrest_dataframe['NormalizedArrestDate'].astype('category').cat.codes\n",
    "bpd_arrest_dataframe['Arrest'] = bpd_arrest_dataframe['Arrest'].astype('category').cat.codes\n",
    "bpd_arrest_dataframe['Sex'] = bpd_arrest_dataframe['Sex'].astype('category').cat.codes\n",
    "bpd_arrest_dataframe['Race'] = bpd_arrest_dataframe['Race'].astype('category').cat.codes\n",
    "bpd_arrest_dataframe['ArrestLocation'] = bpd_arrest_dataframe['ArrestLocation'].astype('category').cat.codes\n",
    "bpd_arrest_dataframe['IncidentOffense'] = bpd_arrest_dataframe['IncidentOffense'].astype('category').cat.codes\n",
    "bpd_arrest_dataframe['IncidentLocation'] = bpd_arrest_dataframe['IncidentLocation'].astype('category').cat.codes\n",
    "bpd_arrest_dataframe['Charge'] = bpd_arrest_dataframe['Charge'].astype('category').cat.codes\n",
    "bpd_arrest_dataframe['ChargeDescription'] = bpd_arrest_dataframe['ChargeDescription'].astype('category').cat.codes\n",
    "bpd_arrest_dataframe['District'] = bpd_arrest_dataframe['District'].astype('category').cat.codes\n",
    "bpd_arrest_dataframe['Neighborhood'] = bpd_arrest_dataframe['Neighborhood'].astype('category').cat.codes\n",
    "'''\n",
    "\n"
   ]
  },
  {
   "cell_type": "code",
   "execution_count": 12,
   "metadata": {
    "collapsed": false
   },
   "outputs": [
    {
     "data": {
      "text/html": [
       "<div>\n",
       "<table border=\"1\" class=\"dataframe\">\n",
       "  <thead>\n",
       "    <tr style=\"text-align: right;\">\n",
       "      <th></th>\n",
       "      <th>Arrest</th>\n",
       "      <th>Age</th>\n",
       "      <th>Sex</th>\n",
       "      <th>Race</th>\n",
       "      <th>ArrestDate</th>\n",
       "      <th>ArrestTime</th>\n",
       "      <th>ArrestLocation</th>\n",
       "      <th>IncidentOffense</th>\n",
       "      <th>IncidentLocation</th>\n",
       "      <th>Charge</th>\n",
       "      <th>ChargeDescription</th>\n",
       "      <th>District</th>\n",
       "      <th>Neighborhood</th>\n",
       "      <th>ArrestDay</th>\n",
       "      <th>NormalizedArrestDate</th>\n",
       "      <th>ArrestHour</th>\n",
       "    </tr>\n",
       "  </thead>\n",
       "  <tbody>\n",
       "    <tr>\n",
       "      <th>2</th>\n",
       "      <td>16147109.0</td>\n",
       "      <td>27.0</td>\n",
       "      <td>M</td>\n",
       "      <td>B</td>\n",
       "      <td>10/15/2016</td>\n",
       "      <td>22:45</td>\n",
       "      <td>2300 E JEFFERSON ST</td>\n",
       "      <td>4CAGG. ASSLT.- OTH.</td>\n",
       "      <td>2300 JEFFERSON ST</td>\n",
       "      <td>1 1420</td>\n",
       "      <td>ASSAULT</td>\n",
       "      <td>Southeastern</td>\n",
       "      <td>McElderry Park</td>\n",
       "      <td>Saturday</td>\n",
       "      <td>2016-10-15</td>\n",
       "      <td>22</td>\n",
       "    </tr>\n",
       "  </tbody>\n",
       "</table>\n",
       "</div>"
      ],
      "text/plain": [
       "       Arrest   Age Sex Race  ArrestDate ArrestTime       ArrestLocation  \\\n",
       "2  16147109.0  27.0   M    B  10/15/2016      22:45  2300 E JEFFERSON ST   \n",
       "\n",
       "       IncidentOffense   IncidentLocation  Charge ChargeDescription  \\\n",
       "2  4CAGG. ASSLT.- OTH.  2300 JEFFERSON ST  1 1420           ASSAULT   \n",
       "\n",
       "       District    Neighborhood ArrestDay NormalizedArrestDate ArrestHour  \n",
       "2  Southeastern  McElderry Park  Saturday           2016-10-15         22  "
      ]
     },
     "execution_count": 12,
     "metadata": {},
     "output_type": "execute_result"
    }
   ],
   "source": [
    "arrest_dataframe[2:3]"
   ]
  },
  {
   "cell_type": "code",
   "execution_count": 13,
   "metadata": {
    "collapsed": false
   },
   "outputs": [
    {
     "name": "stdout",
     "output_type": "stream",
     "text": [
      "len(arrest_dataframe) 128668\n",
      "len(bpd_arrest_dataframe) 128668\n",
      "Arrest : 122084\n",
      "Age 74\n",
      "Sex 2\n",
      "Race 5\n",
      "ArrestDate 1384\n",
      "ArrestTime 1728\n",
      "ArrestLocation [Many Unknowns] 10134\n",
      "IncidentOffense [Many Unknowns] 266\n",
      "IncidentLocation [Many Unknowns] 14972\n",
      "Charge 586\n",
      "ChargeDescription 11510\n",
      "District 10\n",
      "Neighborhood 548\n"
     ]
    }
   ],
   "source": [
    "print 'len(arrest_dataframe)', len(arrest_dataframe)\n",
    "print 'len(bpd_arrest_dataframe)', len(bpd_arrest_dataframe)\n",
    "print 'Arrest :', len(arrest_dataframe['Arrest'].unique())\n",
    "print 'Age', len(arrest_dataframe['Age'].unique())\n",
    "print 'Sex', len(arrest_dataframe['Sex'].unique())\n",
    "print 'Race', len(arrest_dataframe['Race'].unique())\n",
    "print 'ArrestDate', len(arrest_dataframe['ArrestDate'].unique())\n",
    "print 'ArrestTime', len(arrest_dataframe['ArrestTime'].unique())\n",
    "print 'ArrestLocation [Many Unknowns]', len(arrest_dataframe['ArrestLocation'].unique())\n",
    "print 'IncidentOffense [Many Unknowns]', len(arrest_dataframe['IncidentOffense'].unique())\n",
    "print 'IncidentLocation [Many Unknowns]', len(arrest_dataframe['IncidentLocation'].unique())\n",
    "print 'Charge', len(arrest_dataframe['Charge'].unique())\n",
    "print 'ChargeDescription', len(arrest_dataframe['ChargeDescription'].unique())\n",
    "print 'District', len(arrest_dataframe['District'].unique())\n",
    "print 'Neighborhood', len(arrest_dataframe['Neighborhood'].unique())"
   ]
  },
  {
   "cell_type": "code",
   "execution_count": 14,
   "metadata": {
    "collapsed": false
   },
   "outputs": [
    {
     "name": "stdout",
     "output_type": "stream",
     "text": [
      "Male count => 104157\n",
      "Female count => 24511\n",
      "\n",
      "A count => 340\n",
      "I count => 372\n",
      "U count => 2621\n",
      "W count => 20413\n",
      "B count => 104922\n",
      "\n",
      "ArrestTime Midnight [00:00 to 06:00] => 128668\n",
      "ArrestTime Morning [06:00 to 12:00] => 0\n",
      "ArrestTime Afternoon [12:00 to 18:00] => 38842\n",
      "ArrestTime Evening [18:00 to 23:59] => 39568\n",
      "\n"
     ]
    }
   ],
   "source": [
    "print 'Male count =>', len(bpd_arrest_dataframe[bpd_arrest_dataframe['Sex'] == 'M'])\n",
    "print 'Female count =>', len(bpd_arrest_dataframe[bpd_arrest_dataframe['Sex'] == 'F'])\n",
    "print ''\n",
    "\n",
    "print 'A count =>', len(bpd_arrest_dataframe[bpd_arrest_dataframe['Race'] == 'A'])\n",
    "print 'I count =>', len(bpd_arrest_dataframe[bpd_arrest_dataframe['Race'] == 'I'])\n",
    "print 'U count =>', len(bpd_arrest_dataframe[bpd_arrest_dataframe['Race'] == 'U'])\n",
    "print 'W count =>', len(bpd_arrest_dataframe[bpd_arrest_dataframe['Race'] == 'W'])\n",
    "print 'B count =>', len(bpd_arrest_dataframe[bpd_arrest_dataframe['Race'] == 'B'])\n",
    "print ''\n",
    "\n",
    "print 'ArrestTime Midnight [00:00 to 06:00] =>', len(bpd_arrest_dataframe[(bpd_arrest_dataframe['ArrestHour'] >= '0') & (bpd_arrest_dataframe['ArrestHour'] < '6')])\n",
    "print 'ArrestTime Morning [06:00 to 12:00] =>', len(bpd_arrest_dataframe[(bpd_arrest_dataframe['ArrestHour'] >= '6') & (bpd_arrest_dataframe['ArrestHour'] < '12')])\n",
    "print 'ArrestTime Afternoon [12:00 to 18:00] =>', len(bpd_arrest_dataframe[(bpd_arrest_dataframe['ArrestHour'] >= '12') & (bpd_arrest_dataframe['ArrestHour'] < '18')])\n",
    "print 'ArrestTime Evening [18:00 to 23:59] =>', len(bpd_arrest_dataframe[(bpd_arrest_dataframe['ArrestHour'] >= '18') & (bpd_arrest_dataframe['ArrestHour'] < '24')])\n",
    "\n",
    "print ''"
   ]
  },
  {
   "cell_type": "code",
   "execution_count": 15,
   "metadata": {
    "collapsed": false
   },
   "outputs": [
    {
     "name": "stdout",
     "output_type": "stream",
     "text": [
      "104157\n",
      "24511\n",
      "    Age  R_A  R_B  R_I  R_U  R_W\n",
      "0  27.0    0    1    0    0    0\n",
      "1  33.0    0    1    0    0    0\n",
      "0    M\n",
      "1    M\n",
      "Name: Sex, dtype: object\n"
     ]
    }
   ],
   "source": [
    "Male_data = bpd_arrest_dataframe[bpd_arrest_dataframe['Sex'] == 'M']\n",
    "Female_data = bpd_arrest_dataframe[bpd_arrest_dataframe['Sex'] == 'F']\n",
    "print len(Male_data)\n",
    "print len(Female_data)\n",
    "\n",
    "X_male = pd.concat([Male_data['Age'], pd.get_dummies(Male_data['Race'], prefix = 'R')], axis=1)\n",
    "Y_male = Male_data['Sex']\n",
    "\n",
    "X_male = X_male[:5000]\n",
    "Y_male = Y_male[:5000]\n",
    "\n",
    "X_female = pd.concat([Female_data['Age'], pd.get_dummies(Female_data['Race'], prefix = 'R')], axis=1)\n",
    "Y_female = Female_data['Sex']\n",
    "\n",
    "X_female = X_female[:5000]\n",
    "Y_female = Y_female[:5000]\n",
    "\n",
    "X = pd.concat([X_male, X_female], axis=0)\n",
    "Y = pd.concat([Y_male, Y_female], axis=0)\n",
    "\n",
    "print X.head(2)\n",
    "print Y.head(2)"
   ]
  },
  {
   "cell_type": "code",
   "execution_count": 16,
   "metadata": {
    "collapsed": false
   },
   "outputs": [
    {
     "name": "stdout",
     "output_type": "stream",
     "text": [
      "Total records: 128668\n",
      "With Unknown Offense: 80390\n",
      "Without: 48278\n"
     ]
    }
   ],
   "source": [
    "bpd_arrest_knownIncident = bpd_arrest_dataframe.copy()\n",
    "\n",
    "print 'Total records:', len(bpd_arrest_knownIncident)\n",
    "print 'With Unknown Offense:', len(bpd_arrest_knownIncident[bpd_arrest_knownIncident['IncidentOffense'] == 'Unknown Offense'])\n",
    "print 'Without:', len(bpd_arrest_knownIncident[bpd_arrest_knownIncident['IncidentOffense'] != 'Unknown Offense'])\n",
    "\n",
    "bpd_arrest_knownIncident = bpd_arrest_knownIncident[bpd_arrest_knownIncident['IncidentOffense'] != 'Unknown Offense']"
   ]
  },
  {
   "cell_type": "code",
   "execution_count": 17,
   "metadata": {
    "collapsed": false
   },
   "outputs": [
    {
     "name": "stdout",
     "output_type": "stream",
     "text": [
      "New records in bpd_arrest_knownIncident: 48278\n"
     ]
    }
   ],
   "source": [
    "print 'New records in bpd_arrest_knownIncident:', len(bpd_arrest_knownIncident)\n",
    "bpd_arrest_dataframe = bpd_arrest_knownIncident"
   ]
  },
  {
   "cell_type": "code",
   "execution_count": 18,
   "metadata": {
    "collapsed": false
   },
   "outputs": [
    {
     "data": {
      "text/plain": [
       "'\\nX_train = X.iloc[1:(len(X)/2)]\\nX_test = X.iloc[(len(X)/2) + 1: len(X)]\\n\\nY_train = Y.iloc[1:(len(Y)/2)]\\nY_test = Y.iloc[(len(Y)/2) + 1: len(Y)]\\n'"
      ]
     },
     "execution_count": 18,
     "metadata": {},
     "output_type": "execute_result"
    }
   ],
   "source": [
    "#Split DataFrames into Training (Training + Validation) and Test\n",
    "#X = pd.concat([bpd_arrest_dataframe['Age'], pd.get_dummies(bpd_arrest_dataframe['Sex'], prefix = 'S'), pd.get_dummies(bpd_arrest_dataframe['Race'], prefix = 'R'), pd.get_dummies(bpd_arrest_dataframe['District'], prefix = 'Dist')], axis=1)\n",
    "X = pd.concat([bpd_arrest_dataframe['Age'], pd.get_dummies(bpd_arrest_dataframe['Sex'], prefix = 'S'), pd.get_dummies(bpd_arrest_dataframe['Race'], prefix = 'R')], axis=1)\n",
    "Y = bpd_arrest_dataframe['IncidentOffense']\n",
    "#Y = pd.get_dummies(bpd_arrest_dataframe['Charge'], prefix = 'C')\n",
    "\n",
    "'''\n",
    "X_train = X.iloc[1:(len(X)/2)]\n",
    "X_test = X.iloc[(len(X)/2) + 1: len(X)]\n",
    "\n",
    "Y_train = Y.iloc[1:(len(Y)/2)]\n",
    "Y_test = Y.iloc[(len(Y)/2) + 1: len(Y)]\n",
    "'''\n",
    "#train_arrest_dataframe = bpd_arrest_dataframe.iloc[1:(len(bpd_arrest_dataframe)/2)]\n",
    "#test_arrest_dataframe = bpd_arrest_dataframe.iloc[(len(bpd_arrest_dataframe)/2) + 1: len(bpd_arrest_dataframe)]\n",
    "\n",
    "#X = X[:10000]\n",
    "#Y = Y[:10000]"
   ]
  },
  {
   "cell_type": "code",
   "execution_count": 19,
   "metadata": {
    "collapsed": false
   },
   "outputs": [
    {
     "name": "stdout",
     "output_type": "stream",
     "text": [
      "48278\n",
      "48278\n"
     ]
    }
   ],
   "source": [
    "print len(X)\n",
    "print len(Y)"
   ]
  },
  {
   "cell_type": "code",
   "execution_count": 20,
   "metadata": {
    "collapsed": false
   },
   "outputs": [],
   "source": [
    "encoder = LabelEncoder()\n",
    "encoder.fit(Y)\n",
    "encoded_Y = encoder.transform(Y)\n",
    "# convert integers to dummy variables (i.e. one hot encoded)\n",
    "dummy_y = np_utils.to_categorical(encoded_Y)"
   ]
  },
  {
   "cell_type": "code",
   "execution_count": 155,
   "metadata": {
    "collapsed": false
   },
   "outputs": [
    {
     "ename": "NameError",
     "evalue": "name 'Y_train' is not defined",
     "output_type": "error",
     "traceback": [
      "\u001b[0;31m---------------------------------------------------------------------------\u001b[0m",
      "\u001b[0;31mNameError\u001b[0m                                 Traceback (most recent call last)",
      "\u001b[0;32m<ipython-input-155-86a483b05c40>\u001b[0m in \u001b[0;36m<module>\u001b[0;34m()\u001b[0m\n\u001b[1;32m      1\u001b[0m \u001b[0mencoder\u001b[0m \u001b[1;33m=\u001b[0m \u001b[0mLabelEncoder\u001b[0m\u001b[1;33m(\u001b[0m\u001b[1;33m)\u001b[0m\u001b[1;33m\u001b[0m\u001b[0m\n\u001b[0;32m----> 2\u001b[0;31m \u001b[0mencoder\u001b[0m\u001b[1;33m.\u001b[0m\u001b[0mfit\u001b[0m\u001b[1;33m(\u001b[0m\u001b[0mY_train\u001b[0m\u001b[1;33m)\u001b[0m\u001b[1;33m\u001b[0m\u001b[0m\n\u001b[0m\u001b[1;32m      3\u001b[0m \u001b[0mencoded_Y_train\u001b[0m \u001b[1;33m=\u001b[0m \u001b[0mencoder\u001b[0m\u001b[1;33m.\u001b[0m\u001b[0mtransform\u001b[0m\u001b[1;33m(\u001b[0m\u001b[0mY_train\u001b[0m\u001b[1;33m)\u001b[0m\u001b[1;33m\u001b[0m\u001b[0m\n\u001b[1;32m      4\u001b[0m \u001b[1;31m# convert integers to dummy variables (i.e. one hot encoded)\u001b[0m\u001b[1;33m\u001b[0m\u001b[1;33m\u001b[0m\u001b[0m\n\u001b[1;32m      5\u001b[0m \u001b[0mdummy_y_train\u001b[0m \u001b[1;33m=\u001b[0m \u001b[0mnp_utils\u001b[0m\u001b[1;33m.\u001b[0m\u001b[0mto_categorical\u001b[0m\u001b[1;33m(\u001b[0m\u001b[0mencoded_Y_train\u001b[0m\u001b[1;33m)\u001b[0m\u001b[1;33m\u001b[0m\u001b[0m\n",
      "\u001b[0;31mNameError\u001b[0m: name 'Y_train' is not defined"
     ]
    }
   ],
   "source": [
    "encoder = LabelEncoder()\n",
    "encoder.fit(Y_train)\n",
    "encoded_Y_train = encoder.transform(Y_train)\n",
    "# convert integers to dummy variables (i.e. one hot encoded)\n",
    "dummy_y_train = np_utils.to_categorical(encoded_Y_train)\n",
    "\n",
    "encoder.fit(Y_test)\n",
    "encoded_Y_test = encoder.transform(Y_test)\n",
    "# convert integers to dummy variables (i.e. one hot encoded)\n",
    "dummy_y_test = np_utils.to_categorical(encoded_Y_test)"
   ]
  },
  {
   "cell_type": "code",
   "execution_count": 103,
   "metadata": {
    "collapsed": false
   },
   "outputs": [
    {
     "name": "stdout",
     "output_type": "stream",
     "text": [
      "64333\n",
      "64333\n"
     ]
    }
   ],
   "source": [
    "#print dummy_y[1]\n",
    "print len(dummy_y_train)\n",
    "print len(dummy_y_test)"
   ]
  },
  {
   "cell_type": "code",
   "execution_count": 104,
   "metadata": {
    "collapsed": false
   },
   "outputs": [
    {
     "name": "stdout",
     "output_type": "stream",
     "text": [
      "[165 167 165 ..., 178   0  14]\n",
      "64333\n",
      "[ 21  34 329 ...,  21  14 140]\n",
      "64333\n"
     ]
    }
   ],
   "source": [
    "print encoded_Y_train\n",
    "print len(encoded_Y_train)\n",
    "print encoded_Y_test\n",
    "print len(encoded_Y_test)"
   ]
  },
  {
   "cell_type": "code",
   "execution_count": 105,
   "metadata": {
    "collapsed": false
   },
   "outputs": [
    {
     "name": "stdout",
     "output_type": "stream",
     "text": [
      "469\n",
      "424\n"
     ]
    }
   ],
   "source": [
    "uniqueCrimeCodes_train = Y_train.unique() # OR crime_dataframe.CrimeCode.unique()\n",
    "print len(uniqueCrimeCodes_train)\n",
    "\n",
    "uniqueCrimeCodes_test = Y_test.unique() # OR crime_dataframe.CrimeCode.unique()\n",
    "print len(uniqueCrimeCodes_test)"
   ]
  },
  {
   "cell_type": "code",
   "execution_count": 21,
   "metadata": {
    "collapsed": false
   },
   "outputs": [
    {
     "name": "stdout",
     "output_type": "stream",
     "text": [
      "8\n",
      "265\n",
      "['4CAGG. ASSLT.- OTH.' '4ECOMMON ASSAULT' '6CLARCENY- SHOPLIFTING'\n",
      " '49FAMILY DISTURBANCE' '7ASTOLEN AUTO' '4BAGG. ASSLT.- CUT'\n",
      " '54ARMED PERSON' '5ABURG. RES. (FORCE)' '3BROBB HIGHWAY (UA)'\n",
      " '118BURGLARY - FOURTH DEGREE' '4DAGG. ASSLT.- HAND' '4AAGG. ASSLT.- GUN'\n",
      " '3AFROBB HWY-FIREARM' '111PROTECTIVE ORDER' '119ISSUED IN ERROR'\n",
      " '4FASSAULT BY THREAT' '87NARCOTICS' '75DESTRUCT. OF PROPERTY' '79OTHER'\n",
      " '55APROSTITUTION' '77DOG BITE' '87ONARCOTICS (OUTSIDE)'\n",
      " '3AOROBB HWY-OTHER WPN' '6DLARCENY- FROM AUTO' '3KROBB RES. (UA)'\n",
      " '26RECOVERED VEHICLE' '5DBURG. OTH. (FORCE)' '5EBURG. OTH. (ATT.)'\n",
      " '81RECOVERED PROPERTY' '6JLARCENY- OTHER' '3JKROBB RESIDENCE-KNIFE'\n",
      " '2ARAPE (FORCE)' '23UNAUTHORIZED USE' '3CKROBB COMM-KNIFE'\n",
      " '87VNARCOTICS (ONVIEW)' '115TRESPASSING' '1AMURDER' '2BRAPE (ATTEMPT)'\n",
      " '88UNFOUNDED CALL' '3AJFROBB CARJACK-FIREARM' '24TOWED VEHICLE'\n",
      " '8AOARSON SIN RES STR-OCC' 'UNKNOWN OFFENSE' '3DROBB COMM. (UA)'\n",
      " '6BLARCENY- PURSE SNATCH' '5BBURG. RES. (ATT.)' '3HROBB CONV. STOR.(UA)'\n",
      " '5FBURG. OTH. (NOFORCE)' '2FPLACING HANDS' '6ELARCENY- AUTO ACC'\n",
      " '3LFROBB BANK-FIREARM' '7CSTOLEN VEH./OTHER' '6GLARCENY- FROM BLDG.'\n",
      " '5CBURG. RES. (NOFORCE)' '117FTO' '67CHILD ABUSE-PHYSICAL'\n",
      " '3AKROBB HWY-KNIFE' '3JOROBB RESIDENCE-OTHER WPN' '61PERSON WANTED ON WAR'\n",
      " '6FLARCENY- BICYCLE' '85MENTAL CASE' '55DISORDERLY PERSON'\n",
      " '96BINVESTIGATIVE STOP' '48INVOLUNTARY DETENTION'\n",
      " '71SEX OFFENDER REGISTRY' '3PROBB MISC. (UA)' '97SEARCH & SEIZURE'\n",
      " '3AJOROBB CARJACK-OTHER WPN' '78GAMBLING' '3CFROBB COMM-FIREARM'\n",
      " '3COROBB COMM-OTHER WPN' '98CHILD NEGLECT' '2JOTHER SEX OFFN.'\n",
      " '3JFROBB RESIDENCE-FIREARM' '1BMANSLAUGHTER' '3NOROBB MISC-OTHER WPN'\n",
      " '76CHILD ABUSE-SEXUAL' '96AWEAPONS PAT DOWN' '3BJROBB CARJACK(UA)'\n",
      " '3AJKROBB CARJACK-KNIFE' '4C-Agg. Asslt.- Oth.' '4E-Common Assault'\n",
      " '118-Burglary - Fourth Degree' '3AF-Robb Hwy-Firearm'\n",
      " '6C-Larceny- Shoplifting' '7A-Stolen Auto' '3AJF-Robb Carjack-Firearm'\n",
      " '4B-Agg. Asslt.- Cut' '4A-Agg. Asslt.- Gun' '3AK-Robb Hwy-Knife'\n",
      " '54-Armed Person' '5D-Burg. Oth. (Force)' '87O-Narcotics (Outside)'\n",
      " '115-Trespassing' '1A-Murder' '3LO-Robb Bank-Other Wpn'\n",
      " '75-Destruct. Of Property' '5B-Burg. Res. (Att.)' '6D-Larceny- From Auto'\n",
      " '3B-Robb Highway (Ua)' '5A-Burg. Res. (Force)' '24-Towed Vehicle'\n",
      " '6E-Larceny- Auto Acc' '3GO-Robb Conv Store-Other Wp' '79-Other'\n",
      " '55-Disorderly Person' '3CK-Robb Comm-Knife' '4D-Agg. Asslt.- Hand'\n",
      " '26-Recovered Vehicle' '4F-Assault By Threat' '87-Narcotics'\n",
      " '61-Person Wanted On War' '3K-Robb Res. (Ua)' '3BJ-Robb Carjack(Ua)'\n",
      " '49-Family Disturbance' '56-Missing Person' '6J-Larceny- Other'\n",
      " '2A-Rape (Force)' '3CF-Robb Comm-Firearm' '23-Unauthorized Use'\n",
      " '6G-Larceny- From Bldg.' '3D-Robb Comm. (Ua)' '7C-Stolen Veh./Other'\n",
      " '3CO-Robb Comm-Other Wpn' '3JK-Robb Residence-Knife'\n",
      " '3H-Robb Conv. Stor.(Ua)' '88-Unfounded Call' '96B-Investigative Stop'\n",
      " '3P-Robb Misc. (Ua)' '6F-Larceny- Bicycle' '2H-Indecent Exp.'\n",
      " '2J-Other Sex Offn.' '97-Search & Seizure' '71-Sex Offender Registry'\n",
      " '76-Child Abuse-Sexual' '2F-Placing Hands' '8BO-Arson Oth Res Str-Occ'\n",
      " '5C-Burg. Res. (Noforce)' '55A-Prostitution' '87V-Narcotics (Onview)'\n",
      " '116-Public Urination / Defec' '3EK-Robb Gas Station-Knife'\n",
      " '80-Lost Property' '8EO-Arson Oth Comm Str-Occ' '3AO-Robb Hwy-Other Wpn'\n",
      " '3JF-Robb Residence-Firearm' '3GF-Robb Conv Store-Firearm'\n",
      " '111-Protective Order' '5F-Burg. Oth. (Noforce)' '67-Child Abuse-Physical'\n",
      " '3NK-Robb Misc-Knife' '119-Issued In Error' '8EV-Arson Oth Comm Str-Vac'\n",
      " '112-Traffic Related Incident' '5E-Burg. Oth. (Att.)'\n",
      " '93-Abduction - Other' '48-Involuntary Detention' '98-Child Neglect'\n",
      " '78-Gambling' '2B-Rape (Attempt)' '58-Injured Person' '3M-Robb Bank (Ua)'\n",
      " '108-Liquor Law/Open Containe' '3JO-Robb Residence-Other Wpn' '95-Exparte'\n",
      " '8J-Arson Other' '20A-Followup' '6L-Larceny- From Locker'\n",
      " '6B-Larceny- Purse Snatch' '81-Recovered Property'\n",
      " '83-Discharging Firearm' '2C-Carnal Knowledge' '73-False Pretense'\n",
      " '3AJK-Robb Carjack-Knife' '114-Hindering' '3EF-Robb Gas Station-Firearm'\n",
      " '3EO-Robb Gas Station-Other W' '106-Custody Dispute' '85-Mental Case'\n",
      " '6H-Larceny- From Machine' '94-Abduction By Parent'\n",
      " '3GK-Robb Conv Store-Knife' '6A-Larceny- Pickpocket' '39-Fire'\n",
      " '3NF-Robb Misc-Firearm' '117-Fto' '103-Dead On Arrival'\n",
      " '3F-Robb Gas Sta. (Ua)' '113-Littering' '3AJO-Robb Carjack-Other Wpn'\n",
      " '2G-Sodomy/Perverson' '60-Sick Person' '86-Special Curfew'\n",
      " '24P-Towed Vehicle - Private' '109-Loitering' '8AO-Arson Sin Res Str-Occ'\n",
      " '8H-Arson Motor Veh' '52A-Animal Cruelty' '3NO-Robb Misc-Other Wpn'\n",
      " '20H-Traffic Control' '118-Burglary - Fourth Deg'\n",
      " '29-Driving While Intox.' '108-Liquor Law/Open Conta'\n",
      " '3JF-Robb Residence-Firear' '59-Intoxicated Person'\n",
      " '3LF-Robb Bank-Firearm' '116-Public Urination / De'\n",
      " '112-Traffic Related Incid' '70A-Ill. Dumping'\n",
      " '118-Burglary - Fourth Degre' '108-Liquor Law/Open Contain' '20J-'\n",
      " '102-Questional Death' '6B-Larceny- Purse Snatc' '75-Destruct. Of Propert'\n",
      " '71-Sex Offender Registr' '5C-Burg. Res. (Nof' '3AO-Robb Hwy-Other'\n",
      " '4D-Agg. Asslt.- Ha' '6C-Larceny- Shopli' '4B-Agg. Asslt.- Cu'\n",
      " '75-Destruct. Of Pr' '6G-Larceny- From B' '3AF-Robb Hwy-Firea'\n",
      " '8AO-Arson Sin Res' '4C-Agg. Asslt.- Ot' '49-Family Disturba'\n",
      " '5D-Burg. Oth. (For' '5A-Burg. Res. (For' '112-Traffic Relate'\n",
      " '4A-Agg. Asslt.- Gu' '5B-Burg. Res. (Att' '55-Disorderly Pers'\n",
      " '71-Sex Offender Re' '111-Protective Ord' '3JF-Robb Residence'\n",
      " '23-Unauthorized Us' '8AV-Arson Sin Res Str-V' '3JF-Robb Residence-Fire'\n",
      " '3EF-Robb Gas Station-Fi' '3CF-Robb Comm-Fire' '4F-Assault By Thre'\n",
      " '87O-Narcotics (Out' '3JO-Robb Residence' '3B-Robb Highway (U'\n",
      " '97-Search & Seizur' '48-Involuntary Det' '48-Involuntary Detentio'\n",
      " '112-Traffic Related Inc' '112-Traffic Related Inciden'\n",
      " '28-Suicide - Attempt' '116-Public Urination / Defe' '2D-Statutory Rape'\n",
      " '84-Bomb Scare' '70-Sanitation Complaint' '107-Drunkenness'\n",
      " '41-Human Trafficking' '33-Parking Complaint' '96-Investigative Stop'\n",
      " '105-Suspicious Burning' '8FO-Arson Public Str-Occ' '96-Stop & Frisk'\n",
      " '110-Summons Served' '77-Dog Bite' '104-Malicious Burning']\n",
      "48278\n"
     ]
    }
   ],
   "source": [
    "X_cols = len(X.columns)\n",
    "print X_cols\n",
    "\n",
    "#Y_cols = len(Y.columns)\n",
    "#print Y_cols\n",
    "print len(Y.unique())\n",
    "print Y.unique()\n",
    "print Y.count()"
   ]
  },
  {
   "cell_type": "code",
   "execution_count": 22,
   "metadata": {
    "collapsed": false
   },
   "outputs": [
    {
     "name": "stdout",
     "output_type": "stream",
     "text": [
      "Index([u'Age', u'S_F', u'S_M', u'R_A', u'R_B', u'R_I', u'R_U', u'R_W'], dtype='object')\n"
     ]
    }
   ],
   "source": [
    "print X.columns"
   ]
  },
  {
   "cell_type": "code",
   "execution_count": 23,
   "metadata": {
    "collapsed": false
   },
   "outputs": [
    {
     "name": "stdout",
     "output_type": "stream",
     "text": [
      "Epoch 1/50\n",
      "48278/48278 [==============================] - 8s - loss: 3.3162 - acc: 0.2546     \n",
      "Epoch 2/50\n",
      "48278/48278 [==============================] - 9s - loss: 3.2014 - acc: 0.2546     \n",
      "Epoch 3/50\n",
      "48278/48278 [==============================] - 9s - loss: 3.2002 - acc: 0.2546     \n",
      "Epoch 4/50\n",
      " 5210/48278 [==>...........................] - ETA: 8s - loss: 3.1825 - acc: 0.2622"
     ]
    },
    {
     "ename": "KeyboardInterrupt",
     "evalue": "",
     "output_type": "error",
     "traceback": [
      "\u001b[0;31m---------------------------------------------------------------------------\u001b[0m",
      "\u001b[0;31mKeyboardInterrupt\u001b[0m                         Traceback (most recent call last)",
      "\u001b[0;32m<ipython-input-23-ff0bde75a4bd>\u001b[0m in \u001b[0;36m<module>\u001b[0;34m()\u001b[0m\n\u001b[1;32m     10\u001b[0m \u001b[1;33m\u001b[0m\u001b[0m\n\u001b[1;32m     11\u001b[0m \u001b[1;31m# Fit model\u001b[0m\u001b[1;33m\u001b[0m\u001b[1;33m\u001b[0m\u001b[0m\n\u001b[0;32m---> 12\u001b[0;31m \u001b[0mmodel\u001b[0m\u001b[1;33m.\u001b[0m\u001b[0mfit\u001b[0m\u001b[1;33m(\u001b[0m\u001b[0mX\u001b[0m\u001b[1;33m.\u001b[0m\u001b[0mvalues\u001b[0m\u001b[1;33m,\u001b[0m \u001b[0mdummy_y\u001b[0m\u001b[1;33m,\u001b[0m \u001b[0mnb_epoch\u001b[0m\u001b[1;33m=\u001b[0m\u001b[1;36m50\u001b[0m\u001b[1;33m,\u001b[0m \u001b[0mbatch_size\u001b[0m\u001b[1;33m=\u001b[0m\u001b[1;36m10\u001b[0m\u001b[1;33m,\u001b[0m \u001b[0mshuffle\u001b[0m\u001b[1;33m=\u001b[0m\u001b[0mTrue\u001b[0m\u001b[1;33m,\u001b[0m \u001b[0mverbose\u001b[0m\u001b[1;33m=\u001b[0m\u001b[1;36m1\u001b[0m\u001b[1;33m)\u001b[0m\u001b[1;33m\u001b[0m\u001b[0m\n\u001b[0m\u001b[1;32m     13\u001b[0m \u001b[1;33m\u001b[0m\u001b[0m\n\u001b[1;32m     14\u001b[0m \u001b[1;31m# Evaluate model\u001b[0m\u001b[1;33m\u001b[0m\u001b[1;33m\u001b[0m\u001b[0m\n",
      "\u001b[0;32mC:\\Users\\dslat\\Anaconda2\\lib\\site-packages\\keras-1.1.2-py2.7.egg\\keras\\models.pyc\u001b[0m in \u001b[0;36mfit\u001b[0;34m(self, x, y, batch_size, nb_epoch, verbose, callbacks, validation_split, validation_data, shuffle, class_weight, sample_weight, **kwargs)\u001b[0m\n\u001b[1;32m    650\u001b[0m                               \u001b[0mshuffle\u001b[0m\u001b[1;33m=\u001b[0m\u001b[0mshuffle\u001b[0m\u001b[1;33m,\u001b[0m\u001b[1;33m\u001b[0m\u001b[0m\n\u001b[1;32m    651\u001b[0m                               \u001b[0mclass_weight\u001b[0m\u001b[1;33m=\u001b[0m\u001b[0mclass_weight\u001b[0m\u001b[1;33m,\u001b[0m\u001b[1;33m\u001b[0m\u001b[0m\n\u001b[0;32m--> 652\u001b[0;31m                               sample_weight=sample_weight)\n\u001b[0m\u001b[1;32m    653\u001b[0m \u001b[1;33m\u001b[0m\u001b[0m\n\u001b[1;32m    654\u001b[0m     def evaluate(self, x, y, batch_size=32, verbose=1,\n",
      "\u001b[0;32mC:\\Users\\dslat\\Anaconda2\\lib\\site-packages\\keras-1.1.2-py2.7.egg\\keras\\engine\\training.pyc\u001b[0m in \u001b[0;36mfit\u001b[0;34m(self, x, y, batch_size, nb_epoch, verbose, callbacks, validation_split, validation_data, shuffle, class_weight, sample_weight, initial_epoch)\u001b[0m\n\u001b[1;32m   1109\u001b[0m                               \u001b[0mval_f\u001b[0m\u001b[1;33m=\u001b[0m\u001b[0mval_f\u001b[0m\u001b[1;33m,\u001b[0m \u001b[0mval_ins\u001b[0m\u001b[1;33m=\u001b[0m\u001b[0mval_ins\u001b[0m\u001b[1;33m,\u001b[0m \u001b[0mshuffle\u001b[0m\u001b[1;33m=\u001b[0m\u001b[0mshuffle\u001b[0m\u001b[1;33m,\u001b[0m\u001b[1;33m\u001b[0m\u001b[0m\n\u001b[1;32m   1110\u001b[0m                               \u001b[0mcallback_metrics\u001b[0m\u001b[1;33m=\u001b[0m\u001b[0mcallback_metrics\u001b[0m\u001b[1;33m,\u001b[0m\u001b[1;33m\u001b[0m\u001b[0m\n\u001b[0;32m-> 1111\u001b[0;31m                               initial_epoch=initial_epoch)\n\u001b[0m\u001b[1;32m   1112\u001b[0m \u001b[1;33m\u001b[0m\u001b[0m\n\u001b[1;32m   1113\u001b[0m     \u001b[1;32mdef\u001b[0m \u001b[0mevaluate\u001b[0m\u001b[1;33m(\u001b[0m\u001b[0mself\u001b[0m\u001b[1;33m,\u001b[0m \u001b[0mx\u001b[0m\u001b[1;33m,\u001b[0m \u001b[0my\u001b[0m\u001b[1;33m,\u001b[0m \u001b[0mbatch_size\u001b[0m\u001b[1;33m=\u001b[0m\u001b[1;36m32\u001b[0m\u001b[1;33m,\u001b[0m \u001b[0mverbose\u001b[0m\u001b[1;33m=\u001b[0m\u001b[1;36m1\u001b[0m\u001b[1;33m,\u001b[0m \u001b[0msample_weight\u001b[0m\u001b[1;33m=\u001b[0m\u001b[0mNone\u001b[0m\u001b[1;33m)\u001b[0m\u001b[1;33m:\u001b[0m\u001b[1;33m\u001b[0m\u001b[0m\n",
      "\u001b[0;32mC:\\Users\\dslat\\Anaconda2\\lib\\site-packages\\keras-1.1.2-py2.7.egg\\keras\\engine\\training.pyc\u001b[0m in \u001b[0;36m_fit_loop\u001b[0;34m(self, f, ins, out_labels, batch_size, nb_epoch, verbose, callbacks, val_f, val_ins, shuffle, callback_metrics, initial_epoch)\u001b[0m\n\u001b[1;32m    824\u001b[0m                 \u001b[0mbatch_logs\u001b[0m\u001b[1;33m[\u001b[0m\u001b[1;34m'size'\u001b[0m\u001b[1;33m]\u001b[0m \u001b[1;33m=\u001b[0m \u001b[0mlen\u001b[0m\u001b[1;33m(\u001b[0m\u001b[0mbatch_ids\u001b[0m\u001b[1;33m)\u001b[0m\u001b[1;33m\u001b[0m\u001b[0m\n\u001b[1;32m    825\u001b[0m                 \u001b[0mcallbacks\u001b[0m\u001b[1;33m.\u001b[0m\u001b[0mon_batch_begin\u001b[0m\u001b[1;33m(\u001b[0m\u001b[0mbatch_index\u001b[0m\u001b[1;33m,\u001b[0m \u001b[0mbatch_logs\u001b[0m\u001b[1;33m)\u001b[0m\u001b[1;33m\u001b[0m\u001b[0m\n\u001b[0;32m--> 826\u001b[0;31m                 \u001b[0mouts\u001b[0m \u001b[1;33m=\u001b[0m \u001b[0mf\u001b[0m\u001b[1;33m(\u001b[0m\u001b[0mins_batch\u001b[0m\u001b[1;33m)\u001b[0m\u001b[1;33m\u001b[0m\u001b[0m\n\u001b[0m\u001b[1;32m    827\u001b[0m                 \u001b[1;32mif\u001b[0m \u001b[0mtype\u001b[0m\u001b[1;33m(\u001b[0m\u001b[0mouts\u001b[0m\u001b[1;33m)\u001b[0m \u001b[1;33m!=\u001b[0m \u001b[0mlist\u001b[0m\u001b[1;33m:\u001b[0m\u001b[1;33m\u001b[0m\u001b[0m\n\u001b[1;32m    828\u001b[0m                     \u001b[0mouts\u001b[0m \u001b[1;33m=\u001b[0m \u001b[1;33m[\u001b[0m\u001b[0mouts\u001b[0m\u001b[1;33m]\u001b[0m\u001b[1;33m\u001b[0m\u001b[0m\n",
      "\u001b[0;32mC:\\Users\\dslat\\Anaconda2\\lib\\site-packages\\keras-1.1.2-py2.7.egg\\keras\\backend\\theano_backend.pyc\u001b[0m in \u001b[0;36m__call__\u001b[0;34m(self, inputs)\u001b[0m\n\u001b[1;32m    809\u001b[0m     \u001b[1;32mdef\u001b[0m \u001b[0m__call__\u001b[0m\u001b[1;33m(\u001b[0m\u001b[0mself\u001b[0m\u001b[1;33m,\u001b[0m \u001b[0minputs\u001b[0m\u001b[1;33m)\u001b[0m\u001b[1;33m:\u001b[0m\u001b[1;33m\u001b[0m\u001b[0m\n\u001b[1;32m    810\u001b[0m         \u001b[1;32massert\u001b[0m \u001b[0mtype\u001b[0m\u001b[1;33m(\u001b[0m\u001b[0minputs\u001b[0m\u001b[1;33m)\u001b[0m \u001b[1;32min\u001b[0m \u001b[1;33m{\u001b[0m\u001b[0mlist\u001b[0m\u001b[1;33m,\u001b[0m \u001b[0mtuple\u001b[0m\u001b[1;33m}\u001b[0m\u001b[1;33m\u001b[0m\u001b[0m\n\u001b[0;32m--> 811\u001b[0;31m         \u001b[1;32mreturn\u001b[0m \u001b[0mself\u001b[0m\u001b[1;33m.\u001b[0m\u001b[0mfunction\u001b[0m\u001b[1;33m(\u001b[0m\u001b[1;33m*\u001b[0m\u001b[0minputs\u001b[0m\u001b[1;33m)\u001b[0m\u001b[1;33m\u001b[0m\u001b[0m\n\u001b[0m\u001b[1;32m    812\u001b[0m \u001b[1;33m\u001b[0m\u001b[0m\n\u001b[1;32m    813\u001b[0m \u001b[1;33m\u001b[0m\u001b[0m\n",
      "\u001b[0;32mC:\\Users\\dslat\\Anaconda2\\lib\\site-packages\\theano\\compile\\function_module.pyc\u001b[0m in \u001b[0;36m__call__\u001b[0;34m(self, *args, **kwargs)\u001b[0m\n\u001b[1;32m    871\u001b[0m         \u001b[1;32mtry\u001b[0m\u001b[1;33m:\u001b[0m\u001b[1;33m\u001b[0m\u001b[0m\n\u001b[1;32m    872\u001b[0m             \u001b[0moutputs\u001b[0m \u001b[1;33m=\u001b[0m\u001b[0;31m\\\u001b[0m\u001b[1;33m\u001b[0m\u001b[0m\n\u001b[0;32m--> 873\u001b[0;31m                 \u001b[0mself\u001b[0m\u001b[1;33m.\u001b[0m\u001b[0mfn\u001b[0m\u001b[1;33m(\u001b[0m\u001b[1;33m)\u001b[0m \u001b[1;32mif\u001b[0m \u001b[0moutput_subset\u001b[0m \u001b[1;32mis\u001b[0m \u001b[0mNone\u001b[0m \u001b[1;32melse\u001b[0m\u001b[0;31m\\\u001b[0m\u001b[1;33m\u001b[0m\u001b[0m\n\u001b[0m\u001b[1;32m    874\u001b[0m                 \u001b[0mself\u001b[0m\u001b[1;33m.\u001b[0m\u001b[0mfn\u001b[0m\u001b[1;33m(\u001b[0m\u001b[0moutput_subset\u001b[0m\u001b[1;33m=\u001b[0m\u001b[0moutput_subset\u001b[0m\u001b[1;33m)\u001b[0m\u001b[1;33m\u001b[0m\u001b[0m\n\u001b[1;32m    875\u001b[0m         \u001b[1;32mexcept\u001b[0m \u001b[0mException\u001b[0m\u001b[1;33m:\u001b[0m\u001b[1;33m\u001b[0m\u001b[0m\n",
      "\u001b[0;32mC:\\Users\\dslat\\Anaconda2\\lib\\site-packages\\theano\\gof\\op.pyc\u001b[0m in \u001b[0;36mrval\u001b[0;34m(p, i, o, n)\u001b[0m\n\u001b[1;32m    858\u001b[0m         \u001b[1;32mif\u001b[0m \u001b[0mparams\u001b[0m \u001b[1;32mis\u001b[0m \u001b[0mgraph\u001b[0m\u001b[1;33m.\u001b[0m\u001b[0mNoParams\u001b[0m\u001b[1;33m:\u001b[0m\u001b[1;33m\u001b[0m\u001b[0m\n\u001b[1;32m    859\u001b[0m             \u001b[1;31m# default arguments are stored in the closure of `rval`\u001b[0m\u001b[1;33m\u001b[0m\u001b[1;33m\u001b[0m\u001b[0m\n\u001b[0;32m--> 860\u001b[0;31m             \u001b[1;32mdef\u001b[0m \u001b[0mrval\u001b[0m\u001b[1;33m(\u001b[0m\u001b[0mp\u001b[0m\u001b[1;33m=\u001b[0m\u001b[0mp\u001b[0m\u001b[1;33m,\u001b[0m \u001b[0mi\u001b[0m\u001b[1;33m=\u001b[0m\u001b[0mnode_input_storage\u001b[0m\u001b[1;33m,\u001b[0m \u001b[0mo\u001b[0m\u001b[1;33m=\u001b[0m\u001b[0mnode_output_storage\u001b[0m\u001b[1;33m,\u001b[0m \u001b[0mn\u001b[0m\u001b[1;33m=\u001b[0m\u001b[0mnode\u001b[0m\u001b[1;33m)\u001b[0m\u001b[1;33m:\u001b[0m\u001b[1;33m\u001b[0m\u001b[0m\n\u001b[0m\u001b[1;32m    861\u001b[0m                 \u001b[0mr\u001b[0m \u001b[1;33m=\u001b[0m \u001b[0mp\u001b[0m\u001b[1;33m(\u001b[0m\u001b[0mn\u001b[0m\u001b[1;33m,\u001b[0m \u001b[1;33m[\u001b[0m\u001b[0mx\u001b[0m\u001b[1;33m[\u001b[0m\u001b[1;36m0\u001b[0m\u001b[1;33m]\u001b[0m \u001b[1;32mfor\u001b[0m \u001b[0mx\u001b[0m \u001b[1;32min\u001b[0m \u001b[0mi\u001b[0m\u001b[1;33m]\u001b[0m\u001b[1;33m,\u001b[0m \u001b[0mo\u001b[0m\u001b[1;33m)\u001b[0m\u001b[1;33m\u001b[0m\u001b[0m\n\u001b[1;32m    862\u001b[0m                 \u001b[1;32mfor\u001b[0m \u001b[0mo\u001b[0m \u001b[1;32min\u001b[0m \u001b[0mnode\u001b[0m\u001b[1;33m.\u001b[0m\u001b[0moutputs\u001b[0m\u001b[1;33m:\u001b[0m\u001b[1;33m\u001b[0m\u001b[0m\n",
      "\u001b[0;31mKeyboardInterrupt\u001b[0m: "
     ]
    }
   ],
   "source": [
    "model = Sequential()\n",
    "\n",
    "model.add(Dense(X_cols, input_dim=X_cols, init='uniform', activation='relu'))\n",
    "model.add(Dense(X_cols, init='uniform', activation='relu'))\n",
    "model.add(Dense(X_cols, init='uniform', activation='relu'))\n",
    "model.add(Dense(len(Y.unique()), init='uniform', activation='sigmoid'))\n",
    "\n",
    "# Compile model\n",
    "model.compile(loss='categorical_crossentropy', optimizer='adam', metrics=['accuracy'])\n",
    "\n",
    "# Fit model\n",
    "model.fit(X.values, dummy_y, nb_epoch=50, batch_size=10, shuffle=True, verbose=1)\n",
    "\n",
    "# Evaluate model\n",
    "model.evaluate(X.values, dummy_y, batch_size=5, verbose=1)"
   ]
  },
  {
   "cell_type": "code",
   "execution_count": 101,
   "metadata": {
    "collapsed": false
   },
   "outputs": [],
   "source": [
    "# define baseline model\n",
    "def baseline_model():\n",
    "    # create model\n",
    "    model = Sequential()\n",
    "    \n",
    "    '''\n",
    "    model.add(Dense(7, input_dim = 7, init='normal', activation='relu'))\n",
    "    model.add(Dense(7, input_dim = 7, init='normal', activation='relu'))\n",
    "    model.add(Dense(7, input_dim = 7, init='normal', activation='relu'))\n",
    "    model.add(Dense(7, input_dim = 7, init='normal', activation='relu'))\n",
    "    '''\n",
    "    \n",
    "    model.add(Dense(X_train_cols, input_dim=X_train_cols, init='uniform', activation='relu'))\n",
    "    model.add(Dense(X_train_cols, input_dim=X_train_cols, init='uniform', activation='relu'))\n",
    "    \n",
    "    #model.add(Dense(input_dim=7, output_dim = 10, init='normal', activation='relu'))\n",
    "    #model.add(Dense(input_dim=7, output_dim = 10, init='normal', activation='relu'))\n",
    "    #model.add(Dense(input_dim=11, output_dim=5, init='normal', activation='softmax'))\n",
    "    #model.add(Dense(input_dim=5, output_dim=7, init='normal', activation='relu'))\n",
    "    \n",
    "    model.add(Dense(len(Y_train.unique()), init='normal', activation='sigmoid'))\n",
    "    # Compile model\n",
    "    model.compile(loss='categorical_crossentropy', optimizer='adam', metrics=['accuracy'])\n",
    "    \n",
    "    #model.fit(X_train, Y_train, validation_split=0.33, nb_epoch=150, batch_size=10)\n",
    "    return model"
   ]
  },
  {
   "cell_type": "code",
   "execution_count": 102,
   "metadata": {
    "collapsed": false
   },
   "outputs": [
    {
     "name": "stdout",
     "output_type": "stream",
     "text": [
      "Baseline: 13.26% (2.76%)\n"
     ]
    }
   ],
   "source": [
    "estimator = KerasClassifier(build_fn=baseline_model, nb_epoch=1, batch_size=5, verbose=0)\n",
    "kfold = KFold(n_splits=10, shuffle=True, random_state=seed)\n",
    "results = cross_val_score(estimator, X_train.values, dummy_y_train, cv=kfold)\n",
    "print(\"Baseline: %.2f%% (%.2f%%)\" % (results.mean()*100, results.std()*100))"
   ]
  },
  {
   "cell_type": "code",
   "execution_count": null,
   "metadata": {
    "collapsed": true
   },
   "outputs": [],
   "source": []
  }
 ],
 "metadata": {
  "anaconda-cloud": {},
  "kernelspec": {
   "display_name": "Python [conda root]",
   "language": "python",
   "name": "conda-root-py"
  },
  "language_info": {
   "codemirror_mode": {
    "name": "ipython",
    "version": 2
   },
   "file_extension": ".py",
   "mimetype": "text/x-python",
   "name": "python",
   "nbconvert_exporter": "python",
   "pygments_lexer": "ipython2",
   "version": "2.7.12"
  }
 },
 "nbformat": 4,
 "nbformat_minor": 1
}
