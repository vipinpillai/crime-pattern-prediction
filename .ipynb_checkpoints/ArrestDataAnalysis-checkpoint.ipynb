{
 "cells": [
  {
   "cell_type": "code",
   "execution_count": 1,
   "metadata": {
    "collapsed": false
   },
   "outputs": [
    {
     "name": "stderr",
     "output_type": "stream",
     "text": [
      "Using Theano backend.\n"
     ]
    }
   ],
   "source": [
    "import numpy\n",
    "import pandas as pd\n",
    "from keras.models import Sequential\n",
    "from keras.layers import Dense\n",
    "from keras.wrappers.scikit_learn import KerasClassifier\n",
    "from keras.utils import np_utils\n",
    "from sklearn.model_selection import cross_val_score\n",
    "from sklearn.model_selection import KFold\n",
    "from sklearn.preprocessing import LabelEncoder\n",
    "from sklearn.pipeline import Pipeline\n",
    "\n",
    "'''\n",
    "import theano\n",
    "theano.config.device = 'gpu'\n",
    "theano.config.floatX = 'float32'\n",
    "'''\n",
    "\n",
    "seed = 7\n",
    "numpy.random.seed(seed)\n"
   ]
  },
  {
   "cell_type": "code",
   "execution_count": 34,
   "metadata": {
    "collapsed": true
   },
   "outputs": [],
   "source": [
    "arrest_dataframe = pd.read_csv('BPD_Arrests.csv')"
   ]
  },
  {
   "cell_type": "code",
   "execution_count": 37,
   "metadata": {
    "collapsed": false
   },
   "outputs": [
    {
     "name": "stdout",
     "output_type": "stream",
     "text": [
      "129025\n"
     ]
    }
   ],
   "source": [
    "print len(arrest_dataframe)"
   ]
  },
  {
   "cell_type": "code",
   "execution_count": 36,
   "metadata": {
    "collapsed": true
   },
   "outputs": [],
   "source": [
    "arrest_dataframe['NormalizedArrestDate'] = arrest_dataframe['ArrestDate'].apply(lambda date: pd.Timestamp(date))"
   ]
  },
  {
   "cell_type": "code",
   "execution_count": 40,
   "metadata": {
    "collapsed": false
   },
   "outputs": [],
   "source": [
    "#remove inconsistencies from ArrestTime like [all time have len either 4 or 5] 9.30, 9:30, 09:30, 09.30  ==> 09.30\n",
    "temp = arrest_dataframe['ArrestTime'].apply(lambda time: time[0:1] + ':' + time[2:4] if len(time) == 4 else time[0:2] + ':' + time[3:5])"
   ]
  },
  {
   "cell_type": "code",
   "execution_count": 42,
   "metadata": {
    "collapsed": false
   },
   "outputs": [
    {
     "data": {
      "text/plain": [
       "array(['23:00', '22:45', '22:40', ..., '07:11', '06:53', '07:19'], dtype=object)"
      ]
     },
     "execution_count": 42,
     "metadata": {},
     "output_type": "execute_result"
    }
   ],
   "source": [
    "temp.unique()"
   ]
  },
  {
   "cell_type": "code",
   "execution_count": 43,
   "metadata": {
    "collapsed": false
   },
   "outputs": [
    {
     "name": "stdout",
     "output_type": "stream",
     "text": [
      "129025\n"
     ]
    }
   ],
   "source": [
    "print len(temp)"
   ]
  },
  {
   "cell_type": "code",
   "execution_count": 46,
   "metadata": {
    "collapsed": false
   },
   "outputs": [
    {
     "data": {
      "text/html": [
       "<div>\n",
       "<table border=\"1\" class=\"dataframe\">\n",
       "  <thead>\n",
       "    <tr style=\"text-align: right;\">\n",
       "      <th></th>\n",
       "      <th>Arrest</th>\n",
       "      <th>Age</th>\n",
       "      <th>Sex</th>\n",
       "      <th>Race</th>\n",
       "      <th>ArrestDate</th>\n",
       "      <th>ArrestTime</th>\n",
       "      <th>ArrestLocation</th>\n",
       "      <th>IncidentOffense</th>\n",
       "      <th>IncidentLocation</th>\n",
       "      <th>Charge</th>\n",
       "      <th>ChargeDescription</th>\n",
       "      <th>District</th>\n",
       "      <th>Post</th>\n",
       "      <th>Neighborhood</th>\n",
       "      <th>Location 1</th>\n",
       "      <th>NormalizedArrestDate</th>\n",
       "    </tr>\n",
       "  </thead>\n",
       "  <tbody>\n",
       "    <tr>\n",
       "      <th>5</th>\n",
       "      <td>16147102.0</td>\n",
       "      <td>33.0</td>\n",
       "      <td>M</td>\n",
       "      <td>B</td>\n",
       "      <td>10/15/2016</td>\n",
       "      <td>22:00</td>\n",
       "      <td>0 N HOWARD ST</td>\n",
       "      <td>Unknown Offense</td>\n",
       "      <td>0 N HOWARD ST</td>\n",
       "      <td>1 0494</td>\n",
       "      <td>COUNTERFEIT CASH</td>\n",
       "      <td>Central</td>\n",
       "      <td>NaN</td>\n",
       "      <td>NaN</td>\n",
       "      <td>(39.3032179309, -76.6205657790)</td>\n",
       "      <td>2016-10-15</td>\n",
       "    </tr>\n",
       "    <tr>\n",
       "      <th>6</th>\n",
       "      <td>16147101.0</td>\n",
       "      <td>24.0</td>\n",
       "      <td>M</td>\n",
       "      <td>U</td>\n",
       "      <td>10/15/2016</td>\n",
       "      <td>21:50</td>\n",
       "      <td>3500 S HANOVER ST</td>\n",
       "      <td>Unknown Offense</td>\n",
       "      <td>500 E PATAPSCO AVE</td>\n",
       "      <td>NaN</td>\n",
       "      <td>DIRTBIKE VIOLATION</td>\n",
       "      <td>Southern</td>\n",
       "      <td>912.0</td>\n",
       "      <td>Brooklyn</td>\n",
       "      <td>(39.2401435763, -76.6087811516)</td>\n",
       "      <td>2016-10-15</td>\n",
       "    </tr>\n",
       "    <tr>\n",
       "      <th>7</th>\n",
       "      <td>16147108.0</td>\n",
       "      <td>41.0</td>\n",
       "      <td>M</td>\n",
       "      <td>B</td>\n",
       "      <td>10/15/2016</td>\n",
       "      <td>21:50</td>\n",
       "      <td>1500 HARFORD AVE</td>\n",
       "      <td>6CLARCENY- SHOPLIFTING</td>\n",
       "      <td>1500 HARFORD AVE</td>\n",
       "      <td>1 0621</td>\n",
       "      <td>LARCENY</td>\n",
       "      <td>Eastern</td>\n",
       "      <td>343.0</td>\n",
       "      <td>Oliver</td>\n",
       "      <td>(39.3073430147, -76.6007485175)</td>\n",
       "      <td>2016-10-15</td>\n",
       "    </tr>\n",
       "    <tr>\n",
       "      <th>8</th>\n",
       "      <td>16147111.0</td>\n",
       "      <td>37.0</td>\n",
       "      <td>M</td>\n",
       "      <td>W</td>\n",
       "      <td>10/15/2016</td>\n",
       "      <td>21:15</td>\n",
       "      <td>2100 HARFORD RD</td>\n",
       "      <td>Unknown Offense</td>\n",
       "      <td>2100 HARFORD RD</td>\n",
       "      <td>4 3550</td>\n",
       "      <td>CDS VIOLATION</td>\n",
       "      <td>Eastern</td>\n",
       "      <td>342.0</td>\n",
       "      <td>East Baltimore Midway</td>\n",
       "      <td>(39.3144365009, -76.5977578661)</td>\n",
       "      <td>2016-10-15</td>\n",
       "    </tr>\n",
       "    <tr>\n",
       "      <th>9</th>\n",
       "      <td>16147082.0</td>\n",
       "      <td>26.0</td>\n",
       "      <td>M</td>\n",
       "      <td>B</td>\n",
       "      <td>10/15/2016</td>\n",
       "      <td>21:00</td>\n",
       "      <td>NaN</td>\n",
       "      <td>Unknown Offense</td>\n",
       "      <td>NaN</td>\n",
       "      <td>1 0088</td>\n",
       "      <td>VIOLATION OF PROBATION</td>\n",
       "      <td>NaN</td>\n",
       "      <td>NaN</td>\n",
       "      <td>NaN</td>\n",
       "      <td>NaN</td>\n",
       "      <td>2016-10-15</td>\n",
       "    </tr>\n",
       "  </tbody>\n",
       "</table>\n",
       "</div>"
      ],
      "text/plain": [
       "       Arrest   Age Sex Race  ArrestDate ArrestTime     ArrestLocation  \\\n",
       "5  16147102.0  33.0   M    B  10/15/2016      22:00      0 N HOWARD ST   \n",
       "6  16147101.0  24.0   M    U  10/15/2016      21:50  3500 S HANOVER ST   \n",
       "7  16147108.0  41.0   M    B  10/15/2016      21:50   1500 HARFORD AVE   \n",
       "8  16147111.0  37.0   M    W  10/15/2016      21:15    2100 HARFORD RD   \n",
       "9  16147082.0  26.0   M    B  10/15/2016      21:00                NaN   \n",
       "\n",
       "          IncidentOffense    IncidentLocation  Charge       ChargeDescription  \\\n",
       "5         Unknown Offense       0 N HOWARD ST  1 0494        COUNTERFEIT CASH   \n",
       "6         Unknown Offense  500 E PATAPSCO AVE     NaN      DIRTBIKE VIOLATION   \n",
       "7  6CLARCENY- SHOPLIFTING    1500 HARFORD AVE  1 0621                 LARCENY   \n",
       "8         Unknown Offense     2100 HARFORD RD  4 3550           CDS VIOLATION   \n",
       "9         Unknown Offense                 NaN  1 0088  VIOLATION OF PROBATION   \n",
       "\n",
       "   District   Post           Neighborhood                       Location 1  \\\n",
       "5   Central    NaN                    NaN  (39.3032179309, -76.6205657790)   \n",
       "6  Southern  912.0               Brooklyn  (39.2401435763, -76.6087811516)   \n",
       "7   Eastern  343.0                 Oliver  (39.3073430147, -76.6007485175)   \n",
       "8   Eastern  342.0  East Baltimore Midway  (39.3144365009, -76.5977578661)   \n",
       "9       NaN    NaN                    NaN                              NaN   \n",
       "\n",
       "  NormalizedArrestDate  \n",
       "5           2016-10-15  \n",
       "6           2016-10-15  \n",
       "7           2016-10-15  \n",
       "8           2016-10-15  \n",
       "9           2016-10-15  "
      ]
     },
     "execution_count": 46,
     "metadata": {},
     "output_type": "execute_result"
    }
   ],
   "source": [
    "arrest_dataframe[5:10]"
   ]
  },
  {
   "cell_type": "code",
   "execution_count": 2,
   "metadata": {
    "collapsed": true
   },
   "outputs": [],
   "source": [
    "\n",
    "crime_dataframe['Inside/Outside'] = crime_dataframe['Inside/Outside'].replace(['Inside', 'Outside'], ['I', 'O'])\n",
    "crime_dataframe.drop(['Post','Location 1','Total Incidents'],inplace=True,axis=1)\n",
    "crime_dataframe.drop_duplicates(inplace = True)\n",
    "crime_dataframe['CrimeHour'] = crime_dataframe['CrimeTime'].apply(lambda time: time[:2])\n",
    "crime_dataframe = crime_dataframe.drop(196469)\n",
    "crime_dataframe['CrimeDay'] = crime_dataframe['CrimeDate'].apply(lambda date: pd.Timestamp(date).weekday_name)\n",
    "\n",
    "\n",
    "\n",
    "bpd_crime_dataframe = crime_dataframe.copy()\n",
    "bpd_crime_dataframe.drop(['CrimeDate','CrimeTime','NormalizedCrimeTime', 'NormalizedCrimeDate'],inplace=True,axis=1)\n",
    "bpd_crime_dataframe['CrimeCode'] = bpd_crime_dataframe['CrimeCode'].astype('category').cat.codes\n",
    "bpd_crime_dataframe['Description'] = bpd_crime_dataframe['Description'].astype('category').cat.codes\n",
    "bpd_crime_dataframe['Location'] = bpd_crime_dataframe['Location'].astype('category').cat.codes\n",
    "bpd_crime_dataframe['Inside/Outside'] = bpd_crime_dataframe['Inside/Outside'].astype('category').cat.codes\n",
    "bpd_crime_dataframe['Weapon'] = bpd_crime_dataframe['Weapon'].astype('category').cat.codes\n",
    "bpd_crime_dataframe['District'] = bpd_crime_dataframe['District'].astype('category').cat.codes\n",
    "bpd_crime_dataframe['Neighborhood'] = bpd_crime_dataframe['Neighborhood'].astype('category').cat.codes\n",
    "bpd_crime_dataframe['CrimeDay'] = bpd_crime_dataframe['CrimeDay'].astype('category').cat.codes\n"
   ]
  },
  {
   "cell_type": "code",
   "execution_count": 13,
   "metadata": {
    "collapsed": true
   },
   "outputs": [],
   "source": [
    "#Split DataFrames into Training (Training + Validation) and Test\n",
    "train_crime_dataframe = bpd_crime_dataframe.iloc[1:(len(bpd_crime_dataframe)/2)]\n",
    "test_crime_dataframe = bpd_crime_dataframe.iloc[(len(bpd_crime_dataframe)/2) + 1: len(bpd_crime_dataframe)]\n",
    "\n",
    "\n",
    "X = pd.concat([train_crime_dataframe['Location'], train_crime_dataframe['Inside/Outside'], train_crime_dataframe['Weapon'], train_crime_dataframe['District'], train_crime_dataframe['Neighborhood'], train_crime_dataframe['CrimeHour'], train_crime_dataframe['CrimeDay']], axis=1)\n",
    "Y = train_crime_dataframe['CrimeCode']\n",
    "\n",
    "X = X[:10000]\n",
    "Y = Y[:10000]"
   ]
  },
  {
   "cell_type": "code",
   "execution_count": 14,
   "metadata": {
    "collapsed": false
   },
   "outputs": [
    {
     "data": {
      "text/plain": [
       "136081"
      ]
     },
     "execution_count": 14,
     "metadata": {},
     "output_type": "execute_result"
    }
   ],
   "source": [
    "len(train_crime_dataframe)"
   ]
  },
  {
   "cell_type": "code",
   "execution_count": 15,
   "metadata": {
    "collapsed": true
   },
   "outputs": [],
   "source": [
    "encoder = LabelEncoder()\n",
    "encoder.fit(Y)\n",
    "encoded_Y = encoder.transform(Y)\n",
    "# convert integers to dummy variables (i.e. one hot encoded)\n",
    "dummy_y = np_utils.to_categorical(encoded_Y)"
   ]
  },
  {
   "cell_type": "code",
   "execution_count": 16,
   "metadata": {
    "collapsed": false
   },
   "outputs": [
    {
     "name": "stdout",
     "output_type": "stream",
     "text": [
      "[ 0.  0.  0.  0.  0.  0.  0.  0.  0.  0.  0.  0.  0.  0.  0.  0.  0.  0.\n",
      "  0.  0.  0.  0.  0.  0.  0.  0.  0.  0.  0.  0.  0.  0.  0.  0.  0.  0.\n",
      "  0.  0.  0.  0.  0.  0.  0.  0.  0.  0.  0.  0.  0.  1.  0.  0.  0.  0.\n",
      "  0.  0.  0.  0.  0.  0.  0.  0.  0.  0.  0.  0.  0.  0.  0.]\n",
      "10000\n"
     ]
    }
   ],
   "source": [
    "print dummy_y[1]\n",
    "print len(dummy_y)"
   ]
  },
  {
   "cell_type": "code",
   "execution_count": 17,
   "metadata": {
    "collapsed": false
   },
   "outputs": [
    {
     "name": "stdout",
     "output_type": "stream",
     "text": [
      "[57 49 50 ..., 51 57 50]\n",
      "10000\n"
     ]
    }
   ],
   "source": [
    "print encoded_Y\n",
    "print len(encoded_Y)"
   ]
  },
  {
   "cell_type": "code",
   "execution_count": 18,
   "metadata": {
    "collapsed": false
   },
   "outputs": [
    {
     "name": "stdout",
     "output_type": "stream",
     "text": [
      "[61 52 53  0 45 42  9 16 39 80  5 40 38 44 58 56 46 41 11 28 10 51 13  1 49\n",
      " 47 54 43 63 50  3 26 37 12  6 21 17 24 34 48 64 55 31 76 14 27 32 25  4 29\n",
      " 60 79 77 15  7 67  2 71  8 66 57 35 65 36 18 22 23 20 62]\n",
      "69\n"
     ]
    }
   ],
   "source": [
    "uniqueCrimeCodes = Y.unique() # OR crime_dataframe.CrimeCode.unique()\n",
    "print uniqueCrimeCodes\n",
    "print len(uniqueCrimeCodes)"
   ]
  },
  {
   "cell_type": "code",
   "execution_count": 19,
   "metadata": {
    "collapsed": false
   },
   "outputs": [
    {
     "data": {
      "text/plain": [
       "array([[13150, 1, -1, ..., 84, '00', 2],\n",
       "       [248, 0, -1, ..., 62, '00', 2],\n",
       "       [7258, 1, -1, ..., 228, '01', 2],\n",
       "       ..., \n",
       "       [14874, 1, -1, ..., 99, '23', 4],\n",
       "       [13889, 1, -1, ..., 11, '23', 4],\n",
       "       [17383, 1, -1, ..., 193, '23', 4]], dtype=object)"
      ]
     },
     "execution_count": 19,
     "metadata": {},
     "output_type": "execute_result"
    }
   ],
   "source": [
    "X.values"
   ]
  },
  {
   "cell_type": "code",
   "execution_count": 20,
   "metadata": {
    "collapsed": false
   },
   "outputs": [],
   "source": [
    "# define baseline model\n",
    "def baseline_model():\n",
    "    # create model\n",
    "    model = Sequential()\n",
    "    \n",
    "    '''\n",
    "    model.add(Dense(7, input_dim = 7, init='normal', activation='relu'))\n",
    "    model.add(Dense(7, input_dim = 7, init='normal', activation='relu'))\n",
    "    model.add(Dense(7, input_dim = 7, init='normal', activation='relu'))\n",
    "    model.add(Dense(7, input_dim = 7, init='normal', activation='relu'))\n",
    "    '''\n",
    "    \n",
    "    model.add(Dense(7, input_dim=7, init='uniform', activation='relu'))\n",
    "    model.add(Dense(7, input_dim=7, init='uniform', activation='relu'))\n",
    "    model.add(Dense(7, input_dim=7, init='uniform', activation='relu'))\n",
    "    \n",
    "    #model.add(Dense(input_dim=7, output_dim = 10, init='normal', activation='relu'))\n",
    "    #model.add(Dense(input_dim=7, output_dim = 10, init='normal', activation='relu'))\n",
    "    #model.add(Dense(input_dim=11, output_dim=5, init='normal', activation='softmax'))\n",
    "    #model.add(Dense(input_dim=5, output_dim=7, init='normal', activation='relu'))\n",
    "    \n",
    "    model.add(Dense(len(Y.unique()), init='normal', activation='sigmoid'))\n",
    "    # Compile model\n",
    "    model.compile(loss='categorical_crossentropy', optimizer='adam', metrics=['accuracy'])\n",
    "    return model"
   ]
  },
  {
   "cell_type": "code",
   "execution_count": 11,
   "metadata": {
    "collapsed": false
   },
   "outputs": [
    {
     "name": "stdout",
     "output_type": "stream",
     "text": [
      "Baseline: 12.80% (1.78%)\n"
     ]
    }
   ],
   "source": [
    "estimator = KerasClassifier(build_fn=baseline_model, nb_epoch=100, batch_size=5, verbose=0)\n",
    "kfold = KFold(n_splits=10, shuffle=True, random_state=seed)\n",
    "results = cross_val_score(estimator, X.values, dummy_y, cv=kfold)\n",
    "print(\"Baseline: %.2f%% (%.2f%%)\" % (results.mean()*100, results.std()*100))"
   ]
  },
  {
   "cell_type": "code",
   "execution_count": null,
   "metadata": {
    "collapsed": true
   },
   "outputs": [],
   "source": []
  }
 ],
 "metadata": {
  "anaconda-cloud": {},
  "kernelspec": {
   "display_name": "Python [conda root]",
   "language": "python",
   "name": "conda-root-py"
  },
  "language_info": {
   "codemirror_mode": {
    "name": "ipython",
    "version": 2
   },
   "file_extension": ".py",
   "mimetype": "text/x-python",
   "name": "python",
   "nbconvert_exporter": "python",
   "pygments_lexer": "ipython2",
   "version": "2.7.12"
  }
 },
 "nbformat": 4,
 "nbformat_minor": 1
}
