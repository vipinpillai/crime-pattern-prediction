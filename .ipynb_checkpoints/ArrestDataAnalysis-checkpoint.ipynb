{
 "cells": [
  {
   "cell_type": "code",
   "execution_count": 1,
   "metadata": {
    "collapsed": false
   },
   "outputs": [
    {
     "name": "stderr",
     "output_type": "stream",
     "text": [
      "Using Theano backend.\n"
     ]
    }
   ],
   "source": [
    "import numpy\n",
    "import pandas as pd\n",
    "from keras.models import Sequential\n",
    "from keras.layers import Dense\n",
    "from keras.wrappers.scikit_learn import KerasClassifier\n",
    "from keras.utils import np_utils\n",
    "from sklearn.model_selection import cross_val_score\n",
    "from sklearn.model_selection import KFold\n",
    "from sklearn.preprocessing import LabelEncoder\n",
    "from sklearn.pipeline import Pipeline\n",
    "\n",
    "'''\n",
    "import theano\n",
    "theano.config.device = 'gpu'\n",
    "theano.config.floatX = 'float32'\n",
    "'''\n",
    "\n",
    "seed = 7\n",
    "numpy.random.seed(seed)\n"
   ]
  },
  {
   "cell_type": "code",
   "execution_count": 29,
   "metadata": {
    "collapsed": false
   },
   "outputs": [
    {
     "name": "stdout",
     "output_type": "stream",
     "text": [
      "129025\n"
     ]
    }
   ],
   "source": [
    "arrest_dataframe = pd.read_csv('BPD_Arrests.csv')\n",
    "print len(arrest_dataframe)"
   ]
  },
  {
   "cell_type": "code",
   "execution_count": 36,
   "metadata": {
    "collapsed": false
   },
   "outputs": [
    {
     "data": {
      "text/html": [
       "<div>\n",
       "<table border=\"1\" class=\"dataframe\">\n",
       "  <thead>\n",
       "    <tr style=\"text-align: right;\">\n",
       "      <th></th>\n",
       "      <th>Arrest</th>\n",
       "      <th>Age</th>\n",
       "      <th>Sex</th>\n",
       "      <th>Race</th>\n",
       "      <th>ArrestDate</th>\n",
       "      <th>ArrestTime</th>\n",
       "      <th>ArrestLocation</th>\n",
       "      <th>IncidentOffense</th>\n",
       "      <th>IncidentLocation</th>\n",
       "      <th>Charge</th>\n",
       "      <th>ChargeDescription</th>\n",
       "      <th>District</th>\n",
       "      <th>Post</th>\n",
       "      <th>Neighborhood</th>\n",
       "      <th>Location 1</th>\n",
       "      <th>ArrestDay</th>\n",
       "      <th>NormalizedArrestDate</th>\n",
       "      <th>ArrestHour</th>\n",
       "    </tr>\n",
       "  </thead>\n",
       "  <tbody>\n",
       "    <tr>\n",
       "      <th>0</th>\n",
       "      <td>16147118.0</td>\n",
       "      <td>27.0</td>\n",
       "      <td>M</td>\n",
       "      <td>B</td>\n",
       "      <td>10/15/2016</td>\n",
       "      <td>23:00</td>\n",
       "      <td>200 N FRANKLINTOWN RD</td>\n",
       "      <td>Unknown Offense</td>\n",
       "      <td>400 N FRANKLINTOWN RD</td>\n",
       "      <td>2 0705</td>\n",
       "      <td>ARMED ROBBERY</td>\n",
       "      <td>Southwestern</td>\n",
       "      <td>842.0</td>\n",
       "      <td>Penrose/Fayette Street Outreach</td>\n",
       "      <td>(39.2901207304, -76.6604437052)</td>\n",
       "      <td>Saturday</td>\n",
       "      <td>2016-10-15</td>\n",
       "      <td>23</td>\n",
       "    </tr>\n",
       "  </tbody>\n",
       "</table>\n",
       "</div>"
      ],
      "text/plain": [
       "       Arrest   Age Sex Race  ArrestDate ArrestTime         ArrestLocation  \\\n",
       "0  16147118.0  27.0   M    B  10/15/2016      23:00  200 N FRANKLINTOWN RD   \n",
       "\n",
       "   IncidentOffense       IncidentLocation  Charge ChargeDescription  \\\n",
       "0  Unknown Offense  400 N FRANKLINTOWN RD  2 0705     ARMED ROBBERY   \n",
       "\n",
       "       District   Post                     Neighborhood  \\\n",
       "0  Southwestern  842.0  Penrose/Fayette Street Outreach   \n",
       "\n",
       "                        Location 1 ArrestDay NormalizedArrestDate ArrestHour  \n",
       "0  (39.2901207304, -76.6604437052)  Saturday           2016-10-15         23  "
      ]
     },
     "execution_count": 36,
     "metadata": {},
     "output_type": "execute_result"
    }
   ],
   "source": [
    "arrest_dataframe.head(1)#loc[arrest_dataframe['ArrestDate'] == '10/15/2016']"
   ]
  },
  {
   "cell_type": "code",
   "execution_count": 31,
   "metadata": {
    "collapsed": true
   },
   "outputs": [],
   "source": [
    "arrest_dataframe['Arrest'] = arrest_dataframe['Arrest'].fillna(0)\n",
    "arrest_dataframe['Age'] = arrest_dataframe['Age'].fillna(0)\n",
    "\n",
    "arrest_dataframe['ArrestDay'] = arrest_dataframe['ArrestDate'].apply(lambda date: pd.Timestamp(date).weekday_name)\n",
    "arrest_dataframe['NormalizedArrestDate'] = arrest_dataframe['ArrestDate'].apply(lambda date: pd.Timestamp(date))"
   ]
  },
  {
   "cell_type": "code",
   "execution_count": 33,
   "metadata": {
    "collapsed": true
   },
   "outputs": [],
   "source": [
    "#remove inconsistencies from ArrestTime like [all time have len either 4 or 5] 9.30, 9:30, 09:30, 09.30  ==> 09.30\n",
    "arrest_dataframe['ArrestTime'] = arrest_dataframe['ArrestTime'].apply(lambda time: time[0:1] + ':' + time[2:4] if len(time) == 4 else time[0:2] + ':' + time[3:5])\n",
    "arrest_dataframe['ArrestHour'] = arrest_dataframe['ArrestTime'].apply(lambda time: time[:2])"
   ]
  },
  {
   "cell_type": "code",
   "execution_count": 34,
   "metadata": {
    "collapsed": true
   },
   "outputs": [],
   "source": [
    "arrest_dataframe['Charge'] = arrest_dataframe['Charge'].fillna('0')\n",
    "arrest_dataframe['ChargeDescription'] = arrest_dataframe['ChargeDescription'].fillna('Unknown Charge')"
   ]
  },
  {
   "cell_type": "code",
   "execution_count": 35,
   "metadata": {
    "collapsed": false
   },
   "outputs": [],
   "source": [
    "arrest_dataframe['District'] = arrest_dataframe['District'].fillna('U')\n",
    "#if needed convert Northeastern to NE, Central to C and so on...\n",
    "\n",
    "arrest_dataframe['Neighborhood'] = arrest_dataframe['Neighborhood'].fillna('Unknown')\n",
    "\n",
    "#arrest_dataframe['Post'] = arrest_dataframe['Post'].fillna(0)\n"
   ]
  },
  {
   "cell_type": "code",
   "execution_count": 8,
   "metadata": {
    "collapsed": false
   },
   "outputs": [],
   "source": [
    "arrest_dataframe.drop(['Post','Location 1'],inplace=True,axis=1)\n",
    "arrest_dataframe.drop_duplicates(inplace = True)\n",
    "\n",
    "bpd_arrest_dataframe = arrest_dataframe.copy()\n",
    "#bpd_arrest_dataframe.drop(['ArrestDate', 'ArrestTime', 'NormalizedArrestDate'],inplace=True,axis=1)\n",
    "bpd_arrest_dataframe['ArrestDate'] = bpd_arrest_dataframe['ArrestDate'].astype('category').cat.codes\n",
    "bpd_arrest_dataframe['ArrestTime'] = bpd_arrest_dataframe['ArrestTime'].astype('category').cat.codes\n",
    "bpd_arrest_dataframe['NormalizedArrestDate'] = bpd_arrest_dataframe['NormalizedArrestDate'].astype('category').cat.codes\n",
    "bpd_arrest_dataframe['Arrest'] = bpd_arrest_dataframe['Arrest'].astype('category').cat.codes\n",
    "bpd_arrest_dataframe['Sex'] = bpd_arrest_dataframe['Sex'].astype('category').cat.codes\n",
    "bpd_arrest_dataframe['Race'] = bpd_arrest_dataframe['Race'].astype('category').cat.codes\n",
    "bpd_arrest_dataframe['ArrestLocation'] = bpd_arrest_dataframe['ArrestLocation'].astype('category').cat.codes\n",
    "bpd_arrest_dataframe['IncidentOffense'] = bpd_arrest_dataframe['IncidentOffense'].astype('category').cat.codes\n",
    "bpd_arrest_dataframe['IncidentLocation'] = bpd_arrest_dataframe['IncidentLocation'].astype('category').cat.codes\n",
    "bpd_arrest_dataframe['Charge'] = bpd_arrest_dataframe['Charge'].astype('category').cat.codes\n",
    "bpd_arrest_dataframe['ChargeDescription'] = bpd_arrest_dataframe['ChargeDescription'].astype('category').cat.codes\n",
    "bpd_arrest_dataframe['District'] = bpd_arrest_dataframe['District'].astype('category').cat.codes\n",
    "bpd_arrest_dataframe['Neighborhood'] = bpd_arrest_dataframe['Neighborhood'].astype('category').cat.codes\n"
   ]
  },
  {
   "cell_type": "code",
   "execution_count": 25,
   "metadata": {
    "collapsed": false
   },
   "outputs": [
    {
     "data": {
      "text/html": [
       "<div>\n",
       "<table border=\"1\" class=\"dataframe\">\n",
       "  <thead>\n",
       "    <tr style=\"text-align: right;\">\n",
       "      <th></th>\n",
       "      <th>Arrest</th>\n",
       "      <th>Age</th>\n",
       "      <th>Sex</th>\n",
       "      <th>Race</th>\n",
       "      <th>ArrestDate</th>\n",
       "      <th>ArrestTime</th>\n",
       "      <th>ArrestLocation</th>\n",
       "      <th>IncidentOffense</th>\n",
       "      <th>IncidentLocation</th>\n",
       "      <th>Charge</th>\n",
       "      <th>ChargeDescription</th>\n",
       "      <th>District</th>\n",
       "      <th>Neighborhood</th>\n",
       "      <th>ArrestDay</th>\n",
       "      <th>NormalizedArrestDate</th>\n",
       "      <th>ArrestHour</th>\n",
       "    </tr>\n",
       "  </thead>\n",
       "  <tbody>\n",
       "    <tr>\n",
       "      <th>2</th>\n",
       "      <td>16147109.0</td>\n",
       "      <td>27.0</td>\n",
       "      <td>M</td>\n",
       "      <td>B</td>\n",
       "      <td>10/15/2016</td>\n",
       "      <td>22:45</td>\n",
       "      <td>2300 E JEFFERSON ST</td>\n",
       "      <td>4CAGG. ASSLT.- OTH.</td>\n",
       "      <td>2300 JEFFERSON ST</td>\n",
       "      <td>1 1420</td>\n",
       "      <td>ASSAULT</td>\n",
       "      <td>Southeastern</td>\n",
       "      <td>McElderry Park</td>\n",
       "      <td>Saturday</td>\n",
       "      <td>2016-10-15</td>\n",
       "      <td>22</td>\n",
       "    </tr>\n",
       "  </tbody>\n",
       "</table>\n",
       "</div>"
      ],
      "text/plain": [
       "       Arrest   Age Sex Race  ArrestDate ArrestTime       ArrestLocation  \\\n",
       "2  16147109.0  27.0   M    B  10/15/2016      22:45  2300 E JEFFERSON ST   \n",
       "\n",
       "       IncidentOffense   IncidentLocation  Charge ChargeDescription  \\\n",
       "2  4CAGG. ASSLT.- OTH.  2300 JEFFERSON ST  1 1420           ASSAULT   \n",
       "\n",
       "       District    Neighborhood ArrestDay NormalizedArrestDate ArrestHour  \n",
       "2  Southeastern  McElderry Park  Saturday           2016-10-15         22  "
      ]
     },
     "execution_count": 25,
     "metadata": {},
     "output_type": "execute_result"
    }
   ],
   "source": [
    "arrest_dataframe[2:3]"
   ]
  },
  {
   "cell_type": "code",
   "execution_count": 28,
   "metadata": {
    "collapsed": false
   },
   "outputs": [
    {
     "name": "stdout",
     "output_type": "stream",
     "text": [
      "len(arrest_dataframe) 128668\n",
      "len(bpd_arrest_dataframe) 128668\n",
      "Arrest : 122084\n",
      "Age 74\n",
      "Sex 2\n",
      "Race 5\n",
      "ArrestDate 1384\n",
      "ArrestTime 1728\n",
      "ArrestLocation [Many Unknowns] 10134\n",
      "IncidentOffense [Many Unknowns] 266\n",
      "IncidentLocation [Many Unknowns] 14972\n",
      "Charge 586\n",
      "ChargeDescription 11510\n",
      "District 10\n",
      "Neighborhood 548\n"
     ]
    }
   ],
   "source": [
    "print 'len(arrest_dataframe)', len(arrest_dataframe)\n",
    "print 'len(bpd_arrest_dataframe)', len(bpd_arrest_dataframe)\n",
    "print 'Arrest :', len(arrest_dataframe['Arrest'].unique())\n",
    "print 'Age', len(arrest_dataframe['Age'].unique())\n",
    "print 'Sex', len(arrest_dataframe['Sex'].unique())\n",
    "print 'Race', len(arrest_dataframe['Race'].unique())\n",
    "print 'ArrestDate', len(arrest_dataframe['ArrestDate'].unique())\n",
    "print 'ArrestTime', len(arrest_dataframe['ArrestTime'].unique())\n",
    "print 'ArrestLocation [Many Unknowns]', len(arrest_dataframe['ArrestLocation'].unique())\n",
    "print 'IncidentOffense [Many Unknowns]', len(arrest_dataframe['IncidentOffense'].unique())\n",
    "print 'IncidentLocation [Many Unknowns]', len(arrest_dataframe['IncidentLocation'].unique())\n",
    "print 'Charge', len(arrest_dataframe['Charge'].unique())\n",
    "print 'ChargeDescription', len(arrest_dataframe['ChargeDescription'].unique())\n",
    "print 'District', len(arrest_dataframe['District'].unique())\n",
    "print 'Neighborhood', len(arrest_dataframe['Neighborhood'].unique())"
   ]
  },
  {
   "cell_type": "code",
   "execution_count": 10,
   "metadata": {
    "collapsed": false
   },
   "outputs": [],
   "source": [
    "#Split DataFrames into Training (Training + Validation) and Test\n",
    "train_arrest_dataframe = bpd_arrest_dataframe.iloc[1:(len(bpd_arrest_dataframe)/2)]\n",
    "test_arrest_dataframe = bpd_arrest_dataframe.iloc[(len(bpd_arrest_dataframe)/2) + 1: len(bpd_arrest_dataframe)]\n",
    "\n",
    "X = pd.concat([train_arrest_dataframe['Age'], train_arrest_dataframe['Sex'], train_arrest_dataframe['Race'], train_arrest_dataframe['District']], axis=1)\n",
    "Y = train_arrest_dataframe['Charge']\n",
    "\n",
    "#X = X[:10000]\n",
    "#Y = Y[:10000]"
   ]
  },
  {
   "cell_type": "code",
   "execution_count": 11,
   "metadata": {
    "collapsed": false
   },
   "outputs": [
    {
     "data": {
      "text/plain": [
       "64333"
      ]
     },
     "execution_count": 11,
     "metadata": {},
     "output_type": "execute_result"
    }
   ],
   "source": [
    "len(train_arrest_dataframe)"
   ]
  },
  {
   "cell_type": "code",
   "execution_count": 12,
   "metadata": {
    "collapsed": true
   },
   "outputs": [],
   "source": [
    "encoder = LabelEncoder()\n",
    "encoder.fit(Y)\n",
    "encoded_Y = encoder.transform(Y)\n",
    "# convert integers to dummy variables (i.e. one hot encoded)\n",
    "dummy_y = np_utils.to_categorical(encoded_Y)"
   ]
  },
  {
   "cell_type": "code",
   "execution_count": 13,
   "metadata": {
    "collapsed": false
   },
   "outputs": [
    {
     "name": "stdout",
     "output_type": "stream",
     "text": [
      "64333\n"
     ]
    }
   ],
   "source": [
    "#print dummy_y[1]\n",
    "print len(dummy_y)"
   ]
  },
  {
   "cell_type": "code",
   "execution_count": 14,
   "metadata": {
    "collapsed": false
   },
   "outputs": [
    {
     "name": "stdout",
     "output_type": "stream",
     "text": [
      "[165 167 165 ..., 178   0  14]\n",
      "64333\n"
     ]
    }
   ],
   "source": [
    "print encoded_Y\n",
    "print len(encoded_Y)"
   ]
  },
  {
   "cell_type": "code",
   "execution_count": 15,
   "metadata": {
    "collapsed": false
   },
   "outputs": [
    {
     "name": "stdout",
     "output_type": "stream",
     "text": [
      "469\n"
     ]
    }
   ],
   "source": [
    "uniqueCrimeCodes = Y.unique() # OR crime_dataframe.CrimeCode.unique()\n",
    "#print uniqueCrimeCodes\n",
    "print len(uniqueCrimeCodes)"
   ]
  },
  {
   "cell_type": "code",
   "execution_count": 16,
   "metadata": {
    "collapsed": false
   },
   "outputs": [
    {
     "data": {
      "text/plain": [
       "array([[ 33.,   1.,   1.,   0.],\n",
       "       [ 27.,   1.,   1.,   5.],\n",
       "       [ 24.,   1.,   1.,   6.],\n",
       "       ..., \n",
       "       [ 38.,   1.,   1.,   8.],\n",
       "       [ 30.,   1.,   1.,   8.],\n",
       "       [ 54.,   1.,   1.,   8.]])"
      ]
     },
     "execution_count": 16,
     "metadata": {},
     "output_type": "execute_result"
    }
   ],
   "source": [
    "X.values"
   ]
  },
  {
   "cell_type": "code",
   "execution_count": 19,
   "metadata": {
    "collapsed": false
   },
   "outputs": [],
   "source": [
    "# define baseline model\n",
    "def baseline_model():\n",
    "    # create model\n",
    "    model = Sequential()\n",
    "    \n",
    "    '''\n",
    "    model.add(Dense(7, input_dim = 7, init='normal', activation='relu'))\n",
    "    model.add(Dense(7, input_dim = 7, init='normal', activation='relu'))\n",
    "    model.add(Dense(7, input_dim = 7, init='normal', activation='relu'))\n",
    "    model.add(Dense(7, input_dim = 7, init='normal', activation='relu'))\n",
    "    '''\n",
    "    \n",
    "    model.add(Dense(4, input_dim=4, init='uniform', activation='relu'))\n",
    "    model.add(Dense(4, input_dim=4, init='uniform', activation='relu'))\n",
    "    \n",
    "    #model.add(Dense(input_dim=7, output_dim = 10, init='normal', activation='relu'))\n",
    "    #model.add(Dense(input_dim=7, output_dim = 10, init='normal', activation='relu'))\n",
    "    #model.add(Dense(input_dim=11, output_dim=5, init='normal', activation='softmax'))\n",
    "    #model.add(Dense(input_dim=5, output_dim=7, init='normal', activation='relu'))\n",
    "    \n",
    "    model.add(Dense(len(Y.unique()), init='normal', activation='sigmoid'))\n",
    "    # Compile model\n",
    "    model.compile(loss='categorical_crossentropy', optimizer='adam', metrics=['accuracy'])\n",
    "    return model"
   ]
  },
  {
   "cell_type": "code",
   "execution_count": 20,
   "metadata": {
    "collapsed": false
   },
   "outputs": [
    {
     "name": "stdout",
     "output_type": "stream",
     "text": [
      "Baseline: 13.77% (1.51%)\n"
     ]
    }
   ],
   "source": [
    "estimator = KerasClassifier(build_fn=baseline_model, nb_epoch=5, batch_size=5, verbose=0)\n",
    "kfold = KFold(n_splits=10, shuffle=True, random_state=seed)\n",
    "results = cross_val_score(estimator, X.values, dummy_y, cv=kfold)\n",
    "print(\"Baseline: %.2f%% (%.2f%%)\" % (results.mean()*100, results.std()*100))"
   ]
  },
  {
   "cell_type": "code",
   "execution_count": null,
   "metadata": {
    "collapsed": true
   },
   "outputs": [],
   "source": []
  }
 ],
 "metadata": {
  "anaconda-cloud": {},
  "kernelspec": {
   "display_name": "Python [conda root]",
   "language": "python",
   "name": "conda-root-py"
  },
  "language_info": {
   "codemirror_mode": {
    "name": "ipython",
    "version": 2
   },
   "file_extension": ".py",
   "mimetype": "text/x-python",
   "name": "python",
   "nbconvert_exporter": "python",
   "pygments_lexer": "ipython2",
   "version": "2.7.12"
  }
 },
 "nbformat": 4,
 "nbformat_minor": 1
}
