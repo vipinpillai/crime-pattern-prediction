{
 "cells": [
  {
   "cell_type": "code",
   "execution_count": 2,
   "metadata": {
    "collapsed": false
   },
   "outputs": [
    {
     "name": "stdout",
     "output_type": "stream",
     "text": [
      "Score for Logistic Regression: 36.6636663666%\n"
     ]
    }
   ],
   "source": [
    "import numpy\n",
    "import pandas as pd\n",
    "# import matplotlib.pyplot as plt\n",
    "from sklearn import linear_model\n",
    "from sklearn.preprocessing import LabelEncoder\n",
    "\n",
    "arrest_dataframe = pd.read_csv('BPD_Arrests_sanitized.csv')\n",
    "\n",
    "arrest_dataframe = arrest_dataframe[arrest_dataframe['IncidentLocation'] != 'Unknown']\n",
    "arrest_dataframe = arrest_dataframe[arrest_dataframe['ArrestLocation'] != 'Unknown']\n",
    "arrest_dataframe = arrest_dataframe[arrest_dataframe['Charge'] != '0']\n",
    "\n",
    "arrest_dataframe =  arrest_dataframe.sample(frac=1).reset_index(drop=True)\n",
    "\n",
    "#X = pd.concat([pd.get_dummies(arrest_dataframe['Age'], prefix = 'A'), pd.get_dummies(arrest_dataframe['Sex'], prefix = 'S'), pd.get_dummies(arrest_dataframe['Race'], prefix = 'R'), pd.get_dummies(arrest_dataframe['Charge'], prefix = 'Ch')], axis = 1)\n",
    "#Y = arrest_dataframe['IncidentOffense']\n",
    "\n",
    "X = pd.concat([pd.get_dummies(arrest_dataframe['District'], prefix = 'D'), pd.get_dummies(arrest_dataframe['Neighborhood'], prefix = 'N'), pd.get_dummies(arrest_dataframe['Charge'], prefix = 'C'), pd.get_dummies(arrest_dataframe['IncidentLocation'], prefix = 'incLoc'), pd.get_dummies(arrest_dataframe['IncidentOffense'], prefix = 'offns')], axis = 1)\n",
    "Y = arrest_dataframe['ArrestLocation']\n",
    "\n",
    "X_train = X.iloc[1:(len(X)/2)]\n",
    "X_test = X.iloc[(len(X)/2) + 1: len(X)]\n",
    "Y_train = Y.iloc[1:(len(Y)/2)]\n",
    "Y_test = Y.iloc[(len(Y)/2) + 1: len(Y)]\n",
    "\n",
    "X_train = X_train[1:10000]\n",
    "Y_train = Y_train[1:10000]\n",
    "X_test = X_test[1:10000]\n",
    "Y_test = Y_test[1:10000]\n",
    "\n",
    "\n",
    "log_regression = linear_model.LogisticRegression()\n",
    "log_regression.fit(X_train, Y_train)\n",
    "score = log_regression.score(X_test,Y_test)\n",
    "print 'Score for Logistic Regression: ' + str(score*100) + '%'"
   ]
  },
  {
   "cell_type": "code",
   "execution_count": null,
   "metadata": {
    "collapsed": true
   },
   "outputs": [],
   "source": []
  }
 ],
 "metadata": {
  "kernelspec": {
   "display_name": "Python [conda root]",
   "language": "python",
   "name": "conda-root-py"
  },
  "language_info": {
   "codemirror_mode": {
    "name": "ipython",
    "version": 2
   },
   "file_extension": ".py",
   "mimetype": "text/x-python",
   "name": "python",
   "nbconvert_exporter": "python",
   "pygments_lexer": "ipython2",
   "version": "2.7.12"
  }
 },
 "nbformat": 4,
 "nbformat_minor": 1
}
