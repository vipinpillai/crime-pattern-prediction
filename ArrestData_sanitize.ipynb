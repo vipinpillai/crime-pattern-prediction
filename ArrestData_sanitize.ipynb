{
 "cells": [
  {
   "cell_type": "code",
   "execution_count": 1,
   "metadata": {
    "collapsed": true
   },
   "outputs": [],
   "source": [
    "import numpy\n",
    "import pandas as pd\n",
    "\n",
    "seed = 7\n",
    "numpy.random.seed(seed)\n",
    "\n",
    "arrest_dataframe = pd.read_csv('BPD_Arrests.csv')\n",
    "\n",
    "arrest_dataframe = arrest_dataframe[arrest_dataframe['IncidentOffense'] != 'Unknown Offense']\n",
    "\n",
    "arrest_dataframe['Arrest'] = arrest_dataframe['Arrest'].fillna(0)\n",
    "arrest_dataframe['Age'] = arrest_dataframe['Age'].fillna(0)\n",
    "arrest_dataframe['ArrestDay'] = arrest_dataframe['ArrestDate'].apply(lambda date: pd.Timestamp(date).weekday_name)\n",
    "arrest_dataframe['NormalizedArrestDate'] = arrest_dataframe['ArrestDate'].apply(lambda date: pd.Timestamp(date))\n",
    "arrest_dataframe['ArrestTime'] = arrest_dataframe['ArrestTime'].apply(lambda time: time[0:2] + ':' + time[3:5] if len(time) == 5 else time[0:1] + ':' + time[2:4])\n",
    "arrest_dataframe['ArrestHour'] = arrest_dataframe['ArrestTime'].apply(lambda time: '0' + time[:1] if len(time) == 4 else time[:2])\n",
    "\n",
    "arrest_dataframe['Charge'] = arrest_dataframe['Charge'].fillna('0')\n",
    "arrest_dataframe['ChargeDescription'] = arrest_dataframe['ChargeDescription'].fillna('Unknown Charge')\n",
    "\n",
    "arrest_dataframe['District'] = arrest_dataframe['District'].fillna('U')\n",
    "arrest_dataframe['Neighborhood'] = arrest_dataframe['Neighborhood'].fillna('Unknown')\n",
    "\n",
    "arrest_dataframe.drop(['Post','Location 1'],inplace=True,axis=1)\n",
    "arrest_dataframe.drop_duplicates(inplace = True)\n",
    "\n",
    "file_name = 'BPD_Arrests_sanitized.csv'\n",
    "arrest_dataframe.to_csv(file_name, encoding='utf-8')"
   ]
  },
  {
   "cell_type": "code",
   "execution_count": null,
   "metadata": {
    "collapsed": true
   },
   "outputs": [],
   "source": []
  }
 ],
 "metadata": {
  "anaconda-cloud": {},
  "kernelspec": {
   "display_name": "Python [conda root]",
   "language": "python",
   "name": "conda-root-py"
  },
  "language_info": {
   "codemirror_mode": {
    "name": "ipython",
    "version": 2
   },
   "file_extension": ".py",
   "mimetype": "text/x-python",
   "name": "python",
   "nbconvert_exporter": "python",
   "pygments_lexer": "ipython2",
   "version": "2.7.12"
  }
 },
 "nbformat": 4,
 "nbformat_minor": 1
}
