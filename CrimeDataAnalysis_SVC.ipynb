{
 "cells": [
  {
   "cell_type": "code",
   "execution_count": 5,
   "metadata": {
    "collapsed": false
   },
   "outputs": [
    {
     "name": "stdout",
     "output_type": "stream",
     "text": [
      "beginning training\n",
      "0.761176117612\n"
     ]
    }
   ],
   "source": [
    "# import theano\n",
    "# theano.config.device = 'gpu'\n",
    "# theano.config.floatX = 'float32'\n",
    "\n",
    "import numpy as np\n",
    "import pandas as pd\n",
    "# from keras.models import Sequential\n",
    "# from keras.layers import Dense\n",
    "# from keras.wrappers.scikit_learn import KerasClassifier\n",
    "# from keras.utils import np_utils\n",
    "from sklearn.model_selection import cross_val_score\n",
    "from sklearn.model_selection import KFold\n",
    "from sklearn.preprocessing import LabelEncoder\n",
    "from sklearn.pipeline import Pipeline\n",
    "# from keras.layers.advanced_activations import LeakyReLU\n",
    "from sklearn.svm import *\n",
    "\n",
    "seed = 7\n",
    "np.random.seed(seed)\n",
    "\n",
    "bpd_crime_dataframe = pd.read_csv('BPD_Crime_sanitized.csv')\n",
    "\n",
    "bpd_crime_dataframe.drop(['CrimeDate','CrimeTime','NormalizedCrimeTime', 'NormalizedCrimeDate'],inplace=True,axis=1)\n",
    "bpd_crime_dataframe['CrimeCode'] = bpd_crime_dataframe['CrimeCode'].astype('category').cat.codes\n",
    "bpd_crime_dataframe['Description'] = bpd_crime_dataframe['Description'].astype('category').cat.codes\n",
    "bpd_crime_dataframe['Location'] = bpd_crime_dataframe['Location'].astype('category').cat.codes\n",
    "bpd_crime_dataframe['Inside/Outside'] = bpd_crime_dataframe['Inside/Outside'].astype('category').cat.codes\n",
    "bpd_crime_dataframe['Weapon'] = bpd_crime_dataframe['Weapon'].astype('category').cat.codes\n",
    "bpd_crime_dataframe['District'] = bpd_crime_dataframe['District'].astype('category').cat.codes\n",
    "bpd_crime_dataframe['Neighborhood'] = bpd_crime_dataframe['Neighborhood'].astype('category').cat.codes\n",
    "bpd_crime_dataframe['CrimeDay'] = bpd_crime_dataframe['CrimeDay'].astype('category').cat.codes\n",
    "\n",
    "#Split DataFrames into Training (Training + Validation) and Test\n",
    "#train_crime_dataframe = bpd_crime_dataframe.iloc[1:(len(bpd_crime_dataframe)/2)]\n",
    "#test_crime_dataframe = bpd_crime_dataframe.iloc[(len(bpd_crime_dataframe)/2) + 1: len(bpd_crime_dataframe)]\n",
    "\n",
    "bpd_crime_dataframe = bpd_crime_dataframe.ix[~bpd_crime_dataframe.CrimeCode.isin(['8DO', '3LK', '6K', '8FV', '8CV', '3N', '8GV', '8EV', '3EO', '8I', '8CO', '8BV', '8GO', '3EK', '3LO', '3GO'])]\n",
    "bpd_crime_dataframe =  bpd_crime_dataframe.sample(frac=1).reset_index(drop=True)\n",
    "\n",
    "#X = pd.concat([pd.get_dummies(bpd_crime_dataframe['Weapon'], prefix = 'W'), pd.get_dummies(bpd_crime_dataframe['CrimeHour'], prefix = 'CH'), pd.get_dummies(bpd_crime_dataframe['CrimeDay'], prefix = 'CD')], axis = 1)\n",
    "X = pd.concat([pd.get_dummies(bpd_crime_dataframe['Weapon'], prefix = 'W')], axis = 1)\n",
    "Y = bpd_crime_dataframe['CrimeCode']\n",
    "## SVC Accuracy = 0.761176117612\n",
    "\n",
    "\n",
    "X_train = X[1:10000]\n",
    "Y_train = Y[1:10000]\n",
    "X_test = X[10000:20000]\n",
    "Y_test = Y[10000:20000]\n",
    "\n",
    "# encoder = LabelEncoder()\n",
    "# encoder.fit(Y_train)\n",
    "# encoded_Y_train = encoder.transform(Y_train)\n",
    "# # convert integers to dummy variables (i.e. one hot encoded)\n",
    "# dummy_y_train = np_utils.to_categorical(encoded_Y_train)\n",
    "# encoder.fit(Y_test)\n",
    "# encoded_Y_test = encoder.transform(Y_test)\n",
    "# # convert integers to dummy variables (i.e. one hot encoded)\n",
    "# dummy_y_test = np_utils.to_categorical(encoded_Y_test)\n",
    "\n",
    "print 'beginning training'\n",
    "instance = SVC(decision_function_shape='ovr')\n",
    "instance.fit(X_train, Y_train)\n",
    "print str(instance.score(X_train, Y_train))\n",
    "\n",
    "\n",
    "\n",
    "#print(\"Baseline: %.2f%% (%.2f%%)\" % (results.mean()*100, results.std()*100))\n",
    "\n",
    "# X_predict = pd.concat([pd.get_dummies(test_crime_dataframe['Neighborhood'], prefix = 'NB'), pd.get_dummies(test_crime_dataframe['District'], prefix = 'DS'), pd.get_dummies(test_crime_dataframe['Inside/Outside'], prefix = 'IO'), pd.get_dummies(test_crime_dataframe['Weapon'], prefix = 'W'), pd.get_dummies(test_crime_dataframe['CrimeHour'], prefix = 'CH'), pd.get_dummies(test_crime_dataframe['CrimeDay'], prefix = 'CD')], axis = 1)\n",
    "# Y = train_crime_dataframe['CrimeCode']\n"
   ]
  },
  {
   "cell_type": "code",
   "execution_count": null,
   "metadata": {
    "collapsed": true
   },
   "outputs": [],
   "source": []
  }
 ],
 "metadata": {
  "anaconda-cloud": {},
  "kernelspec": {
   "display_name": "Python [conda root]",
   "language": "python",
   "name": "conda-root-py"
  },
  "language_info": {
   "codemirror_mode": {
    "name": "ipython",
    "version": 2
   },
   "file_extension": ".py",
   "mimetype": "text/x-python",
   "name": "python",
   "nbconvert_exporter": "python",
   "pygments_lexer": "ipython2",
   "version": "2.7.12"
  }
 },
 "nbformat": 4,
 "nbformat_minor": 1
}
