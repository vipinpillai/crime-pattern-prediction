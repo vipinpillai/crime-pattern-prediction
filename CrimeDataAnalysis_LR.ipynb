{
 "cells": [
  {
   "cell_type": "code",
   "execution_count": 53,
   "metadata": {
    "collapsed": false
   },
   "outputs": [],
   "source": [
    "#Baseline for BPD Crime Dataset using Logistic Regression, Accuracy = 51.89%\n",
    "\n",
    "\n",
    "import numpy\n",
    "import pandas as pd\n",
    "# import matplotlib.pyplot as plt\n",
    "from sklearn import linear_model\n",
    "from sklearn.preprocessing import LabelEncoder\n",
    "\n",
    "bpd_crime_dataframe = pd.read_csv('BPD_Crime_sanitized.csv')\n",
    "\n",
    "#bpd_crime_dataframe = bpd_crime_dataframe.ix[~bpd_crime_dataframe.CrimeCode.isin(['8DO', '3LK', '6K', '8FV', '8CV', '3N', '8GV', '8EV', '3EO', '8I', '8CO', '8BV', '8GO', '3EK', '3LO', '3GO'])]\n"
   ]
  },
  {
   "cell_type": "code",
   "execution_count": 54,
   "metadata": {
    "collapsed": false
   },
   "outputs": [
    {
     "data": {
      "text/html": [
       "<div>\n",
       "<table border=\"1\" class=\"dataframe\">\n",
       "  <thead>\n",
       "    <tr style=\"text-align: right;\">\n",
       "      <th></th>\n",
       "      <th>Unnamed: 0</th>\n",
       "      <th>CrimeDate</th>\n",
       "      <th>CrimeTime</th>\n",
       "      <th>CrimeCode</th>\n",
       "      <th>Location</th>\n",
       "      <th>Description</th>\n",
       "      <th>Inside/Outside</th>\n",
       "      <th>Weapon</th>\n",
       "      <th>District</th>\n",
       "      <th>Neighborhood</th>\n",
       "      <th>NormalizedCrimeTime</th>\n",
       "      <th>CrimeHour</th>\n",
       "      <th>CrimeDay</th>\n",
       "      <th>NormalizedCrimeDate</th>\n",
       "    </tr>\n",
       "  </thead>\n",
       "  <tbody>\n",
       "    <tr>\n",
       "      <th>1</th>\n",
       "      <td>9</td>\n",
       "      <td>10/29/2016</td>\n",
       "      <td>02:49:00</td>\n",
       "      <td>4E</td>\n",
       "      <td>3100 HAMILTON AVE</td>\n",
       "      <td>COMMON ASSAULT</td>\n",
       "      <td>I</td>\n",
       "      <td>HANDS</td>\n",
       "      <td>NORTHEASTERN</td>\n",
       "      <td>Glenham-Belhar</td>\n",
       "      <td>02:49</td>\n",
       "      <td>2</td>\n",
       "      <td>Saturday</td>\n",
       "      <td>2016-10-29</td>\n",
       "    </tr>\n",
       "    <tr>\n",
       "      <th>2</th>\n",
       "      <td>10</td>\n",
       "      <td>10/29/2016</td>\n",
       "      <td>03:00:00</td>\n",
       "      <td>3AK</td>\n",
       "      <td>5600 LOCH RAVEN BLVD</td>\n",
       "      <td>ROBBERY - STREET</td>\n",
       "      <td>O</td>\n",
       "      <td>KNIFE</td>\n",
       "      <td>NORTHEASTERN</td>\n",
       "      <td>Loch Raven</td>\n",
       "      <td>03:00</td>\n",
       "      <td>3</td>\n",
       "      <td>Saturday</td>\n",
       "      <td>2016-10-29</td>\n",
       "    </tr>\n",
       "    <tr>\n",
       "      <th>3</th>\n",
       "      <td>11</td>\n",
       "      <td>10/29/2016</td>\n",
       "      <td>03:10:00</td>\n",
       "      <td>4E</td>\n",
       "      <td>600 E PATAPSCO AVE</td>\n",
       "      <td>COMMON ASSAULT</td>\n",
       "      <td>I</td>\n",
       "      <td>HANDS</td>\n",
       "      <td>SOUTHERN</td>\n",
       "      <td>Brooklyn</td>\n",
       "      <td>03:10</td>\n",
       "      <td>3</td>\n",
       "      <td>Saturday</td>\n",
       "      <td>2016-10-29</td>\n",
       "    </tr>\n",
       "    <tr>\n",
       "      <th>4</th>\n",
       "      <td>14</td>\n",
       "      <td>10/29/2016</td>\n",
       "      <td>03:15:00</td>\n",
       "      <td>4E</td>\n",
       "      <td>4200 THAYER CT</td>\n",
       "      <td>COMMON ASSAULT</td>\n",
       "      <td>I</td>\n",
       "      <td>HANDS</td>\n",
       "      <td>SOUTHERN</td>\n",
       "      <td>Brooklyn</td>\n",
       "      <td>03:15</td>\n",
       "      <td>3</td>\n",
       "      <td>Saturday</td>\n",
       "      <td>2016-10-29</td>\n",
       "    </tr>\n",
       "  </tbody>\n",
       "</table>\n",
       "</div>"
      ],
      "text/plain": [
       "   Unnamed: 0   CrimeDate CrimeTime CrimeCode              Location  \\\n",
       "1           9  10/29/2016  02:49:00        4E     3100 HAMILTON AVE   \n",
       "2          10  10/29/2016  03:00:00       3AK  5600 LOCH RAVEN BLVD   \n",
       "3          11  10/29/2016  03:10:00        4E    600 E PATAPSCO AVE   \n",
       "4          14  10/29/2016  03:15:00        4E        4200 THAYER CT   \n",
       "\n",
       "        Description Inside/Outside Weapon      District    Neighborhood  \\\n",
       "1    COMMON ASSAULT              I  HANDS  NORTHEASTERN  Glenham-Belhar   \n",
       "2  ROBBERY - STREET              O  KNIFE  NORTHEASTERN      Loch Raven   \n",
       "3    COMMON ASSAULT              I  HANDS      SOUTHERN        Brooklyn   \n",
       "4    COMMON ASSAULT              I  HANDS      SOUTHERN        Brooklyn   \n",
       "\n",
       "  NormalizedCrimeTime  CrimeHour  CrimeDay NormalizedCrimeDate  \n",
       "1               02:49          2  Saturday          2016-10-29  \n",
       "2               03:00          3  Saturday          2016-10-29  \n",
       "3               03:10          3  Saturday          2016-10-29  \n",
       "4               03:15          3  Saturday          2016-10-29  "
      ]
     },
     "execution_count": 54,
     "metadata": {},
     "output_type": "execute_result"
    }
   ],
   "source": [
    "bpd_crime_dataframe[1:5]"
   ]
  },
  {
   "cell_type": "code",
   "execution_count": 55,
   "metadata": {
    "collapsed": false
   },
   "outputs": [
    {
     "name": "stdout",
     "output_type": "stream",
     "text": [
      "88279\n"
     ]
    }
   ],
   "source": [
    "print len(bpd_crime_dataframe)"
   ]
  },
  {
   "cell_type": "code",
   "execution_count": 56,
   "metadata": {
    "collapsed": false
   },
   "outputs": [
    {
     "name": "stdout",
     "output_type": "stream",
     "text": [
      "Score for Logistic Regression: 76.2276227623%\n"
     ]
    }
   ],
   "source": [
    "bpd_crime_dataframe =  bpd_crime_dataframe.sample(frac=1).reset_index(drop=True)\n",
    "\n",
    "#X = pd.concat([pd.get_dummies(bpd_crime_dataframe['Neighborhood'], prefix = 'NB'), pd.get_dummies(bpd_crime_dataframe['District'], prefix = 'DS'), pd.get_dummies(bpd_crime_dataframe['Inside/Outside'], prefix = 'IO'), pd.get_dummies(bpd_crime_dataframe['Weapon'], prefix = 'W'), pd.get_dummies(bpd_crime_dataframe['CrimeHour'], prefix = 'CH'), pd.get_dummies(bpd_crime_dataframe['CrimeDay'], prefix = 'CD')], axis = 1)\n",
    "X = pd.concat([pd.get_dummies(bpd_crime_dataframe['Weapon'], prefix = 'W')], axis = 1)\n",
    "Y = bpd_crime_dataframe['CrimeCode']\n",
    "## Score for Logistic Regression: 76.2276227623%\n",
    "\n",
    "X_train = X.iloc[1:(len(X)/2)]\n",
    "X_test = X.iloc[(len(X)/2) + 1: len(X)]\n",
    "Y_train = Y.iloc[1:(len(Y)/2)]\n",
    "Y_test = Y.iloc[(len(Y)/2) + 1: len(Y)]\n",
    "\n",
    "X_train = X_train[1:10000]\n",
    "Y_train = Y_train[1:10000]\n",
    "X_test = X_test[1:10000]\n",
    "Y_test = Y_test[1:10000]\n",
    "\n",
    "\n",
    "log_regression = linear_model.LogisticRegression()\n",
    "log_regression.fit(X_train, Y_train)\n",
    "score = log_regression.score(X_test,Y_test)\n",
    "print 'Score for Logistic Regression: ' + str(score*100) + '%'\n"
   ]
  },
  {
   "cell_type": "code",
   "execution_count": null,
   "metadata": {
    "collapsed": true
   },
   "outputs": [],
   "source": []
  }
 ],
 "metadata": {
  "kernelspec": {
   "display_name": "Python [conda root]",
   "language": "python",
   "name": "conda-root-py"
  },
  "language_info": {
   "codemirror_mode": {
    "name": "ipython",
    "version": 2
   },
   "file_extension": ".py",
   "mimetype": "text/x-python",
   "name": "python",
   "nbconvert_exporter": "python",
   "pygments_lexer": "ipython2",
   "version": "2.7.12"
  }
 },
 "nbformat": 4,
 "nbformat_minor": 1
}
